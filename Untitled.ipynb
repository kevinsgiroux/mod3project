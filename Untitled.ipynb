{
 "cells": [
  {
   "cell_type": "code",
   "execution_count": 291,
   "metadata": {},
   "outputs": [],
   "source": [
    "import pandas as pd\n",
    "import matplotlib.pyplot as plt\n",
    "import seaborn as sns\n",
    "from sklearn.model_selection import train_test_split\n",
    "from sklearn.pipeline import Pipeline\n",
    "from sklearn.preprocessing import StandardScaler\n",
    "from sklearn.tree import DecisionTreeClassifier"
   ]
  },
  {
   "cell_type": "code",
   "execution_count": 196,
   "metadata": {},
   "outputs": [],
   "source": [
    "df_gen = pd.read_csv('data_w_genres.csv')\n",
    "df_id = pd.read_csv('data.csv')"
   ]
  },
  {
   "cell_type": "code",
   "execution_count": 173,
   "metadata": {
    "scrolled": true
   },
   "outputs": [
    {
     "data": {
      "text/html": [
       "<div>\n",
       "<style scoped>\n",
       "    .dataframe tbody tr th:only-of-type {\n",
       "        vertical-align: middle;\n",
       "    }\n",
       "\n",
       "    .dataframe tbody tr th {\n",
       "        vertical-align: top;\n",
       "    }\n",
       "\n",
       "    .dataframe thead th {\n",
       "        text-align: right;\n",
       "    }\n",
       "</style>\n",
       "<table border=\"1\" class=\"dataframe\">\n",
       "  <thead>\n",
       "    <tr style=\"text-align: right;\">\n",
       "      <th></th>\n",
       "      <th>artists</th>\n",
       "      <th>acousticness</th>\n",
       "      <th>danceability</th>\n",
       "      <th>duration_ms</th>\n",
       "      <th>energy</th>\n",
       "      <th>instrumentalness</th>\n",
       "      <th>liveness</th>\n",
       "      <th>loudness</th>\n",
       "      <th>speechiness</th>\n",
       "      <th>tempo</th>\n",
       "      <th>valence</th>\n",
       "      <th>popularity</th>\n",
       "      <th>key</th>\n",
       "      <th>mode</th>\n",
       "      <th>count</th>\n",
       "      <th>genres</th>\n",
       "    </tr>\n",
       "  </thead>\n",
       "  <tbody>\n",
       "    <tr>\n",
       "      <th>0</th>\n",
       "      <td>\"Cats\" 1981 Original London Cast</td>\n",
       "      <td>0.575083</td>\n",
       "      <td>0.442750</td>\n",
       "      <td>247260.000000</td>\n",
       "      <td>0.386336</td>\n",
       "      <td>0.022717</td>\n",
       "      <td>0.287708</td>\n",
       "      <td>-14.205417</td>\n",
       "      <td>0.180675</td>\n",
       "      <td>115.983500</td>\n",
       "      <td>0.334433</td>\n",
       "      <td>38.000000</td>\n",
       "      <td>5</td>\n",
       "      <td>1</td>\n",
       "      <td>12</td>\n",
       "      <td>['show tunes']</td>\n",
       "    </tr>\n",
       "    <tr>\n",
       "      <th>1</th>\n",
       "      <td>\"Cats\" 1983 Broadway Cast</td>\n",
       "      <td>0.862538</td>\n",
       "      <td>0.441731</td>\n",
       "      <td>287280.000000</td>\n",
       "      <td>0.406808</td>\n",
       "      <td>0.081158</td>\n",
       "      <td>0.315215</td>\n",
       "      <td>-10.690000</td>\n",
       "      <td>0.176212</td>\n",
       "      <td>103.044154</td>\n",
       "      <td>0.268865</td>\n",
       "      <td>33.076923</td>\n",
       "      <td>5</td>\n",
       "      <td>1</td>\n",
       "      <td>26</td>\n",
       "      <td>[]</td>\n",
       "    </tr>\n",
       "    <tr>\n",
       "      <th>2</th>\n",
       "      <td>\"Fiddler On The Roof” Motion Picture Chorus</td>\n",
       "      <td>0.856571</td>\n",
       "      <td>0.348286</td>\n",
       "      <td>328920.000000</td>\n",
       "      <td>0.286571</td>\n",
       "      <td>0.024593</td>\n",
       "      <td>0.325786</td>\n",
       "      <td>-15.230714</td>\n",
       "      <td>0.118514</td>\n",
       "      <td>77.375857</td>\n",
       "      <td>0.354857</td>\n",
       "      <td>34.285714</td>\n",
       "      <td>0</td>\n",
       "      <td>1</td>\n",
       "      <td>7</td>\n",
       "      <td>[]</td>\n",
       "    </tr>\n",
       "    <tr>\n",
       "      <th>3</th>\n",
       "      <td>\"Fiddler On The Roof” Motion Picture Orchestra</td>\n",
       "      <td>0.884926</td>\n",
       "      <td>0.425074</td>\n",
       "      <td>262890.962963</td>\n",
       "      <td>0.245770</td>\n",
       "      <td>0.073587</td>\n",
       "      <td>0.275481</td>\n",
       "      <td>-15.639370</td>\n",
       "      <td>0.123200</td>\n",
       "      <td>88.667630</td>\n",
       "      <td>0.372030</td>\n",
       "      <td>34.444444</td>\n",
       "      <td>0</td>\n",
       "      <td>1</td>\n",
       "      <td>27</td>\n",
       "      <td>[]</td>\n",
       "    </tr>\n",
       "    <tr>\n",
       "      <th>4</th>\n",
       "      <td>\"Joseph And The Amazing Technicolor Dreamcoat\"...</td>\n",
       "      <td>0.605444</td>\n",
       "      <td>0.437333</td>\n",
       "      <td>232428.111111</td>\n",
       "      <td>0.429333</td>\n",
       "      <td>0.037534</td>\n",
       "      <td>0.216111</td>\n",
       "      <td>-11.447222</td>\n",
       "      <td>0.086000</td>\n",
       "      <td>120.329667</td>\n",
       "      <td>0.458667</td>\n",
       "      <td>42.555556</td>\n",
       "      <td>11</td>\n",
       "      <td>1</td>\n",
       "      <td>9</td>\n",
       "      <td>[]</td>\n",
       "    </tr>\n",
       "  </tbody>\n",
       "</table>\n",
       "</div>"
      ],
      "text/plain": [
       "                                             artists  acousticness  \\\n",
       "0                   \"Cats\" 1981 Original London Cast      0.575083   \n",
       "1                          \"Cats\" 1983 Broadway Cast      0.862538   \n",
       "2        \"Fiddler On The Roof” Motion Picture Chorus      0.856571   \n",
       "3     \"Fiddler On The Roof” Motion Picture Orchestra      0.884926   \n",
       "4  \"Joseph And The Amazing Technicolor Dreamcoat\"...      0.605444   \n",
       "\n",
       "   danceability    duration_ms    energy  instrumentalness  liveness  \\\n",
       "0      0.442750  247260.000000  0.386336          0.022717  0.287708   \n",
       "1      0.441731  287280.000000  0.406808          0.081158  0.315215   \n",
       "2      0.348286  328920.000000  0.286571          0.024593  0.325786   \n",
       "3      0.425074  262890.962963  0.245770          0.073587  0.275481   \n",
       "4      0.437333  232428.111111  0.429333          0.037534  0.216111   \n",
       "\n",
       "    loudness  speechiness       tempo   valence  popularity  key  mode  count  \\\n",
       "0 -14.205417     0.180675  115.983500  0.334433   38.000000    5     1     12   \n",
       "1 -10.690000     0.176212  103.044154  0.268865   33.076923    5     1     26   \n",
       "2 -15.230714     0.118514   77.375857  0.354857   34.285714    0     1      7   \n",
       "3 -15.639370     0.123200   88.667630  0.372030   34.444444    0     1     27   \n",
       "4 -11.447222     0.086000  120.329667  0.458667   42.555556   11     1      9   \n",
       "\n",
       "           genres  \n",
       "0  ['show tunes']  \n",
       "1              []  \n",
       "2              []  \n",
       "3              []  \n",
       "4              []  "
      ]
     },
     "execution_count": 173,
     "metadata": {},
     "output_type": "execute_result"
    }
   ],
   "source": [
    "df_gen.head()"
   ]
  },
  {
   "cell_type": "code",
   "execution_count": 174,
   "metadata": {},
   "outputs": [
    {
     "data": {
      "text/html": [
       "<div>\n",
       "<style scoped>\n",
       "    .dataframe tbody tr th:only-of-type {\n",
       "        vertical-align: middle;\n",
       "    }\n",
       "\n",
       "    .dataframe tbody tr th {\n",
       "        vertical-align: top;\n",
       "    }\n",
       "\n",
       "    .dataframe thead th {\n",
       "        text-align: right;\n",
       "    }\n",
       "</style>\n",
       "<table border=\"1\" class=\"dataframe\">\n",
       "  <thead>\n",
       "    <tr style=\"text-align: right;\">\n",
       "      <th></th>\n",
       "      <th>acousticness</th>\n",
       "      <th>artists</th>\n",
       "      <th>danceability</th>\n",
       "      <th>duration_ms</th>\n",
       "      <th>energy</th>\n",
       "      <th>explicit</th>\n",
       "      <th>id</th>\n",
       "      <th>instrumentalness</th>\n",
       "      <th>key</th>\n",
       "      <th>liveness</th>\n",
       "      <th>loudness</th>\n",
       "      <th>mode</th>\n",
       "      <th>name</th>\n",
       "      <th>popularity</th>\n",
       "      <th>release_date</th>\n",
       "      <th>speechiness</th>\n",
       "      <th>tempo</th>\n",
       "      <th>valence</th>\n",
       "      <th>year</th>\n",
       "    </tr>\n",
       "  </thead>\n",
       "  <tbody>\n",
       "    <tr>\n",
       "      <th>0</th>\n",
       "      <td>0.995</td>\n",
       "      <td>['Carl Woitschach']</td>\n",
       "      <td>0.708</td>\n",
       "      <td>158648</td>\n",
       "      <td>0.1950</td>\n",
       "      <td>0</td>\n",
       "      <td>6KbQ3uYMLKb5jDxLF7wYDD</td>\n",
       "      <td>0.563</td>\n",
       "      <td>10</td>\n",
       "      <td>0.1510</td>\n",
       "      <td>-12.428</td>\n",
       "      <td>1</td>\n",
       "      <td>Singende Bataillone 1. Teil</td>\n",
       "      <td>0</td>\n",
       "      <td>1928</td>\n",
       "      <td>0.0506</td>\n",
       "      <td>118.469</td>\n",
       "      <td>0.7790</td>\n",
       "      <td>1928</td>\n",
       "    </tr>\n",
       "    <tr>\n",
       "      <th>1</th>\n",
       "      <td>0.994</td>\n",
       "      <td>['Robert Schumann', 'Vladimir Horowitz']</td>\n",
       "      <td>0.379</td>\n",
       "      <td>282133</td>\n",
       "      <td>0.0135</td>\n",
       "      <td>0</td>\n",
       "      <td>6KuQTIu1KoTTkLXKrwlLPV</td>\n",
       "      <td>0.901</td>\n",
       "      <td>8</td>\n",
       "      <td>0.0763</td>\n",
       "      <td>-28.454</td>\n",
       "      <td>1</td>\n",
       "      <td>Fantasiestücke, Op. 111: Più tosto lento</td>\n",
       "      <td>0</td>\n",
       "      <td>1928</td>\n",
       "      <td>0.0462</td>\n",
       "      <td>83.972</td>\n",
       "      <td>0.0767</td>\n",
       "      <td>1928</td>\n",
       "    </tr>\n",
       "    <tr>\n",
       "      <th>2</th>\n",
       "      <td>0.604</td>\n",
       "      <td>['Seweryn Goszczyński']</td>\n",
       "      <td>0.749</td>\n",
       "      <td>104300</td>\n",
       "      <td>0.2200</td>\n",
       "      <td>0</td>\n",
       "      <td>6L63VW0PibdM1HDSBoqnoM</td>\n",
       "      <td>0.000</td>\n",
       "      <td>5</td>\n",
       "      <td>0.1190</td>\n",
       "      <td>-19.924</td>\n",
       "      <td>0</td>\n",
       "      <td>Chapter 1.18 - Zamek kaniowski</td>\n",
       "      <td>0</td>\n",
       "      <td>1928</td>\n",
       "      <td>0.9290</td>\n",
       "      <td>107.177</td>\n",
       "      <td>0.8800</td>\n",
       "      <td>1928</td>\n",
       "    </tr>\n",
       "    <tr>\n",
       "      <th>3</th>\n",
       "      <td>0.995</td>\n",
       "      <td>['Francisco Canaro']</td>\n",
       "      <td>0.781</td>\n",
       "      <td>180760</td>\n",
       "      <td>0.1300</td>\n",
       "      <td>0</td>\n",
       "      <td>6M94FkXd15sOAOQYRnWPN8</td>\n",
       "      <td>0.887</td>\n",
       "      <td>1</td>\n",
       "      <td>0.1110</td>\n",
       "      <td>-14.734</td>\n",
       "      <td>0</td>\n",
       "      <td>Bebamos Juntos - Instrumental (Remasterizado)</td>\n",
       "      <td>0</td>\n",
       "      <td>1928-09-25</td>\n",
       "      <td>0.0926</td>\n",
       "      <td>108.003</td>\n",
       "      <td>0.7200</td>\n",
       "      <td>1928</td>\n",
       "    </tr>\n",
       "    <tr>\n",
       "      <th>4</th>\n",
       "      <td>0.990</td>\n",
       "      <td>['Frédéric Chopin', 'Vladimir Horowitz']</td>\n",
       "      <td>0.210</td>\n",
       "      <td>687733</td>\n",
       "      <td>0.2040</td>\n",
       "      <td>0</td>\n",
       "      <td>6N6tiFZ9vLTSOIxkj8qKrd</td>\n",
       "      <td>0.908</td>\n",
       "      <td>11</td>\n",
       "      <td>0.0980</td>\n",
       "      <td>-16.829</td>\n",
       "      <td>1</td>\n",
       "      <td>Polonaise-Fantaisie in A-Flat Major, Op. 61</td>\n",
       "      <td>1</td>\n",
       "      <td>1928</td>\n",
       "      <td>0.0424</td>\n",
       "      <td>62.149</td>\n",
       "      <td>0.0693</td>\n",
       "      <td>1928</td>\n",
       "    </tr>\n",
       "  </tbody>\n",
       "</table>\n",
       "</div>"
      ],
      "text/plain": [
       "   acousticness                                   artists  danceability  \\\n",
       "0         0.995                       ['Carl Woitschach']         0.708   \n",
       "1         0.994  ['Robert Schumann', 'Vladimir Horowitz']         0.379   \n",
       "2         0.604                   ['Seweryn Goszczyński']         0.749   \n",
       "3         0.995                      ['Francisco Canaro']         0.781   \n",
       "4         0.990  ['Frédéric Chopin', 'Vladimir Horowitz']         0.210   \n",
       "\n",
       "   duration_ms  energy  explicit                      id  instrumentalness  \\\n",
       "0       158648  0.1950         0  6KbQ3uYMLKb5jDxLF7wYDD             0.563   \n",
       "1       282133  0.0135         0  6KuQTIu1KoTTkLXKrwlLPV             0.901   \n",
       "2       104300  0.2200         0  6L63VW0PibdM1HDSBoqnoM             0.000   \n",
       "3       180760  0.1300         0  6M94FkXd15sOAOQYRnWPN8             0.887   \n",
       "4       687733  0.2040         0  6N6tiFZ9vLTSOIxkj8qKrd             0.908   \n",
       "\n",
       "   key  liveness  loudness  mode  \\\n",
       "0   10    0.1510   -12.428     1   \n",
       "1    8    0.0763   -28.454     1   \n",
       "2    5    0.1190   -19.924     0   \n",
       "3    1    0.1110   -14.734     0   \n",
       "4   11    0.0980   -16.829     1   \n",
       "\n",
       "                                            name  popularity release_date  \\\n",
       "0                    Singende Bataillone 1. Teil           0         1928   \n",
       "1       Fantasiestücke, Op. 111: Più tosto lento           0         1928   \n",
       "2                 Chapter 1.18 - Zamek kaniowski           0         1928   \n",
       "3  Bebamos Juntos - Instrumental (Remasterizado)           0   1928-09-25   \n",
       "4    Polonaise-Fantaisie in A-Flat Major, Op. 61           1         1928   \n",
       "\n",
       "   speechiness    tempo  valence  year  \n",
       "0       0.0506  118.469   0.7790  1928  \n",
       "1       0.0462   83.972   0.0767  1928  \n",
       "2       0.9290  107.177   0.8800  1928  \n",
       "3       0.0926  108.003   0.7200  1928  \n",
       "4       0.0424   62.149   0.0693  1928  "
      ]
     },
     "execution_count": 174,
     "metadata": {},
     "output_type": "execute_result"
    }
   ],
   "source": [
    "df_id.head()"
   ]
  },
  {
   "cell_type": "markdown",
   "metadata": {},
   "source": [
    "## Identify macro genre groupings"
   ]
  },
  {
   "cell_type": "code",
   "execution_count": 175,
   "metadata": {},
   "outputs": [],
   "source": [
    "genres = df_gen.genres\n",
    "\n",
    "freq = {}"
   ]
  },
  {
   "cell_type": "code",
   "execution_count": 176,
   "metadata": {},
   "outputs": [],
   "source": [
    "listy = []\n",
    "for i in genres:\n",
    "    i = i[1:-1].split(sep=',')\n",
    "    for item in i:\n",
    "        listy.append(item)\n",
    "\n",
    "listy = pd.DataFrame(listy)\n",
    "listy = listy[listy[0] != '']"
   ]
  },
  {
   "cell_type": "code",
   "execution_count": 177,
   "metadata": {},
   "outputs": [],
   "source": [
    "newlist = []\n",
    "for i in listy[0]:\n",
    "    if i[0] == ' ':\n",
    "        newlist.append(i[1:])\n",
    "    else:\n",
    "        newlist.append(i)"
   ]
  },
  {
   "cell_type": "code",
   "execution_count": 178,
   "metadata": {},
   "outputs": [],
   "source": [
    "for i in newlist:\n",
    "    if (i in freq): \n",
    "        freq[i] += 1\n",
    "    else: \n",
    "        freq[i] = 1"
   ]
  },
  {
   "cell_type": "code",
   "execution_count": 179,
   "metadata": {
    "scrolled": true
   },
   "outputs": [
    {
     "data": {
      "text/plain": [
       "2663"
      ]
     },
     "execution_count": 179,
     "metadata": {},
     "output_type": "execute_result"
    }
   ],
   "source": [
    "len(freq)"
   ]
  },
  {
   "cell_type": "code",
   "execution_count": 180,
   "metadata": {},
   "outputs": [
    {
     "data": {
      "text/plain": [
       "{\"'pop'\": 638,\n",
       " \"'rock'\": 612,\n",
       " \"'dance pop'\": 570,\n",
       " \"'rap'\": 521,\n",
       " \"'hip hop'\": 514,\n",
       " \"'pop rap'\": 488,\n",
       " \"'pop rock'\": 462,\n",
       " \"'indie pop'\": 401,\n",
       " \"'country rock'\": 398,\n",
       " \"'folk rock'\": 394,\n",
       " \"'urban contemporary'\": 390,\n",
       " \"'latin'\": 389,\n",
       " \"'modern rock'\": 388,\n",
       " \"'southern hip hop'\": 377,\n",
       " \"'soft rock'\": 363,\n",
       " \"'trap'\": 361,\n",
       " \"'mellow gold'\": 358,\n",
       " \"'funk'\": 344,\n",
       " \"'roots rock'\": 336,\n",
       " \"'classic rock'\": 331,\n",
       " \"'album rock'\": 329,\n",
       " \"'adult standards'\": 327,\n",
       " \"'alternative rock'\": 324,\n",
       " \"'indie rock'\": 323,\n",
       " \"'gangster rap'\": 311,\n",
       " \"'country'\": 309,\n",
       " \"'alternative metal'\": 299,\n",
       " \"'new wave pop'\": 295,\n",
       " \"'r&b'\": 295,\n",
       " \"'quiet storm'\": 294,\n",
       " \"'grupera'\": 293,\n",
       " \"'post-teen pop'\": 291,\n",
       " \"'soul'\": 291,\n",
       " \"'post-grunge'\": 288,\n",
       " \"'tropical'\": 288,\n",
       " \"'hard rock'\": 282,\n",
       " \"'folk'\": 276,\n",
       " \"'dance rock'\": 263,\n",
       " \"'brill building pop'\": 253,\n",
       " \"'edm'\": 252,\n",
       " \"'electropop'\": 252,\n",
       " \"'indietronica'\": 252,\n",
       " \"'classical performance'\": 251,\n",
       " \"'art rock'\": 249,\n",
       " \"'contemporary country'\": 245,\n",
       " \"'neo mellow'\": 242,\n",
       " \"'traditional folk'\": 240,\n",
       " \"'hip pop'\": 236,\n",
       " \"'motown'\": 234,\n",
       " \"'blues rock'\": 234,\n",
       " \"'indie folk'\": 230,\n",
       " \"'banda'\": 228,\n",
       " \"'stomp and holler'\": 222,\n",
       " \"'punk'\": 221,\n",
       " \"'norteno'\": 216,\n",
       " \"'show tunes'\": 214,\n",
       " \"'nu metal'\": 214,\n",
       " \"'disco'\": 211,\n",
       " \"'country road'\": 211,\n",
       " \"'classic soul'\": 209,\n",
       " \"'regional mexican'\": 208,\n",
       " \"'new wave'\": 207,\n",
       " \"'latin pop'\": 207,\n",
       " \"'underground hip hop'\": 204,\n",
       " \"'psychedelic rock'\": 200,\n",
       " \"'hardcore hip hop'\": 199,\n",
       " \"'neo soul'\": 199,\n",
       " \"'bubblegum pop'\": 193,\n",
       " \"'new jack swing'\": 192,\n",
       " \"'lounge'\": 190,\n",
       " \"'cool jazz'\": 190,\n",
       " \"'art pop'\": 187,\n",
       " \"'hollywood'\": 185,\n",
       " \"'electro house'\": 185,\n",
       " \"'jazz funk'\": 182,\n",
       " \"'bebop'\": 179,\n",
       " \"'classical'\": 178,\n",
       " \"'rock-and-roll'\": 178,\n",
       " \"'movie tunes'\": 175,\n",
       " \"'alternative hip hop'\": 174,\n",
       " \"'new romantic'\": 173,\n",
       " \"'electronica'\": 169,\n",
       " \"'tropical house'\": 168,\n",
       " \"'pop punk'\": 167,\n",
       " \"'dirty south rap'\": 167,\n",
       " \"'reggaeton'\": 166,\n",
       " \"'new americana'\": 166,\n",
       " \"'vocal jazz'\": 163,\n",
       " \"'contemporary post-bop'\": 163,\n",
       " \"'metal'\": 162,\n",
       " \"'jazz'\": 162,\n",
       " \"'hard bop'\": 160,\n",
       " \"'soul jazz'\": 160,\n",
       " \"'post-disco'\": 158,\n",
       " \"'indie poptimism'\": 156,\n",
       " \"'ranchera'\": 156,\n",
       " \"'modern alternative rock'\": 155,\n",
       " \"'broadway'\": 152,\n",
       " \"'christian music'\": 151,\n",
       " \"'latin hip hop'\": 150,\n",
       " \"'rock en espanol'\": 150,\n",
       " \"'east coast hip hop'\": 149,\n",
       " \"'worship'\": 148,\n",
       " \"'alternative r&b'\": 145,\n",
       " \"'ccm'\": 145,\n",
       " \"'southern soul'\": 144,\n",
       " \"'big band'\": 142,\n",
       " \"'europop'\": 141,\n",
       " \"'atl hip hop'\": 139,\n",
       " \"'alternative dance'\": 139,\n",
       " \"'rhythm and blues'\": 138,\n",
       " \"'filmi'\": 137,\n",
       " \"'cumbia'\": 133,\n",
       " \"'rap rock'\": 132,\n",
       " \"'blues'\": 132,\n",
       " \"'jazz fusion'\": 132,\n",
       " \"'swing'\": 132,\n",
       " \"'indie soul'\": 132,\n",
       " \"'easy listening'\": 131,\n",
       " \"'freak folk'\": 131,\n",
       " \"'modern country rock'\": 130,\n",
       " \"'dance-punk'\": 128,\n",
       " \"'deep pop r&b'\": 128,\n",
       " \"'reggae'\": 127,\n",
       " \"'opera'\": 127,\n",
       " \"'singer-songwriter'\": 127,\n",
       " \"'indie r&b'\": 126,\n",
       " \"'lilith'\": 126,\n",
       " \"'emo'\": 125,\n",
       " \"'orchestral performance'\": 125,\n",
       " \"'rockabilly'\": 123,\n",
       " \"'comic'\": 122,\n",
       " \"'new rave'\": 122,\n",
       " \"'christian alternative rock'\": 121,\n",
       " \"'salsa'\": 120,\n",
       " \"'post-punk'\": 117,\n",
       " \"'vapor trap'\": 116,\n",
       " \"'hip house'\": 116,\n",
       " \"'permanent wave'\": 116,\n",
       " \"'stride'\": 116,\n",
       " \"'roots reggae'\": 115,\n",
       " \"'regional mexican pop'\": 114,\n",
       " \"'bolero'\": 114,\n",
       " \"'ska'\": 112,\n",
       " \"'viral pop'\": 112,\n",
       " \"'texas country'\": 110,\n",
       " \"'latin alternative'\": 108,\n",
       " \"'sleep'\": 108,\n",
       " \"'lo-fi'\": 107,\n",
       " \"'anthem worship'\": 107,\n",
       " \"'glam metal'\": 107,\n",
       " \"'duranguense'\": 107,\n",
       " \"'classical piano'\": 106,\n",
       " \"'screamo'\": 104,\n",
       " \"'alternative country'\": 104,\n",
       " \"'reggaeton flow'\": 104,\n",
       " \"'doo-wop'\": 102,\n",
       " \"'c-pop'\": 102,\n",
       " \"'country pop'\": 101,\n",
       " \"'electric blues'\": 100,\n",
       " \"'latin jazz'\": 100,\n",
       " \"'gospel'\": 100,\n",
       " \"'post-hardcore'\": 99,\n",
       " \"'pub rock'\": 99,\n",
       " \"'indie garage rock'\": 99,\n",
       " \"'bossa nova'\": 99,\n",
       " \"'skate punk'\": 98,\n",
       " \"'experimental'\": 97,\n",
       " \"'electro'\": 96,\n",
       " \"'traditional blues'\": 96,\n",
       " \"'escape room'\": 95,\n",
       " \"'emo rap'\": 95,\n",
       " \"'metalcore'\": 95,\n",
       " \"'acoustic pop'\": 95,\n",
       " \"'synthpop'\": 95,\n",
       " \"'progressive bluegrass'\": 95,\n",
       " \"'jam band'\": 95,\n",
       " \"'smooth jazz'\": 94,\n",
       " \"'jazz saxophone'\": 93,\n",
       " \"'latin rock'\": 93,\n",
       " \"'orchestra'\": 90,\n",
       " \"'merseybeat'\": 89,\n",
       " \"'lo-fi beats'\": 89,\n",
       " \"'soundtrack'\": 89,\n",
       " \"'chillwave'\": 88,\n",
       " \"'melodic metalcore'\": 88,\n",
       " \"'background music'\": 88,\n",
       " \"'redneck'\": 87,\n",
       " \"'mpb'\": 87,\n",
       " \"'rock steady'\": 87,\n",
       " \"'symphonic rock'\": 86,\n",
       " \"'indiecoustica'\": 86,\n",
       " \"'shimmer pop'\": 86,\n",
       " \"'yacht rock'\": 85,\n",
       " \"'modern bollywood'\": 85,\n",
       " \"'slow core'\": 85,\n",
       " \"'melodic rap'\": 84,\n",
       " \"'big room'\": 84,\n",
       " \"'compositional ambient'\": 84,\n",
       " \"'anti-folk'\": 84,\n",
       " \"'pop edm'\": 82,\n",
       " \"'classical soprano'\": 82,\n",
       " \"'industrial metal'\": 80,\n",
       " \"'focus'\": 80,\n",
       " \"'otacore'\": 80,\n",
       " \"'world worship'\": 80,\n",
       " \"'vapor soul'\": 80,\n",
       " \"'heartland rock'\": 80,\n",
       " \"'indian folk'\": 79,\n",
       " \"'samba'\": 79,\n",
       " \"'conscious hip hop'\": 78,\n",
       " \"'lovers rock'\": 78,\n",
       " \"'disney'\": 78,\n",
       " \"'house'\": 78,\n",
       " \"'sufi'\": 77,\n",
       " \"'cali rap'\": 76,\n",
       " \"'west coast rap'\": 76,\n",
       " \"'outlaw country'\": 76,\n",
       " \"'turntablism'\": 76,\n",
       " \"'dub'\": 75,\n",
       " \"'corridos tumbados'\": 75,\n",
       " \"'chanson'\": 75,\n",
       " \"'power pop'\": 75,\n",
       " \"'k-pop'\": 73,\n",
       " \"'brostep'\": 73,\n",
       " \"'country dawn'\": 73,\n",
       " \"'melancholia'\": 72,\n",
       " \"'salsa international'\": 71,\n",
       " \"'ska punk'\": 71,\n",
       " \"'bluegrass'\": 71,\n",
       " \"'old school hip hop'\": 70,\n",
       " \"'metropopolis'\": 70,\n",
       " \"'classic soundtrack'\": 70,\n",
       " \"'trip hop'\": 70,\n",
       " \"'southern rock'\": 69,\n",
       " \"'mexican pop'\": 69,\n",
       " \"'social media pop'\": 67,\n",
       " \"'progressive rock'\": 66,\n",
       " \"'neon pop punk'\": 65,\n",
       " \"'electronic trap'\": 65,\n",
       " \"'scorecore'\": 64,\n",
       " \"'classic mandopop'\": 64,\n",
       " \"'britpop'\": 64,\n",
       " \"'eurodance'\": 63,\n",
       " \"'progressive house'\": 63,\n",
       " \"'classic country pop'\": 63,\n",
       " \"'environmental'\": 63,\n",
       " \"'g funk'\": 62,\n",
       " \"'early modern classical'\": 62,\n",
       " \"'punk blues'\": 62,\n",
       " \"'velha guarda'\": 62,\n",
       " \"'disco house'\": 62,\n",
       " \"'new age'\": 61,\n",
       " \"'hardcore punk'\": 61,\n",
       " \"'protopunk'\": 61,\n",
       " \"'tejano'\": 61,\n",
       " \"'deep new americana'\": 61,\n",
       " \"'classic garage rock'\": 60,\n",
       " \"'piano rock'\": 60,\n",
       " \"'modern blues'\": 60,\n",
       " \"'reggae fusion'\": 59,\n",
       " \"'nu gaze'\": 59,\n",
       " \"'calming instrumental'\": 59,\n",
       " \"'british blues'\": 59,\n",
       " \"'jawaiian'\": 59,\n",
       " \"'dark trap'\": 58,\n",
       " \"'opm'\": 58,\n",
       " \"'melodic hardcore'\": 58,\n",
       " \"'big beat'\": 58,\n",
       " \"'country rap'\": 58,\n",
       " \"'dancehall'\": 58,\n",
       " \"'garage rock'\": 58,\n",
       " \"'post-romantic era'\": 58,\n",
       " \"'old-time'\": 58,\n",
       " \"'progressive electro house'\": 57,\n",
       " \"'industrial rock'\": 57,\n",
       " \"'classic opm'\": 57,\n",
       " \"'jazz piano'\": 57,\n",
       " \"'australian pop'\": 57,\n",
       " \"'modern blues rock'\": 57,\n",
       " \"'latin arena pop'\": 57,\n",
       " \"'downtempo'\": 57,\n",
       " \"'deep regional mexican'\": 56,\n",
       " \"'uk pop'\": 56,\n",
       " \"'perreo'\": 56,\n",
       " \"'avant-garde jazz'\": 56,\n",
       " \"'boy band'\": 55,\n",
       " \"'christian rock'\": 55,\n",
       " \"'west coast trap'\": 55,\n",
       " \"'crunk'\": 55,\n",
       " \"'desi pop'\": 55,\n",
       " \"'cumbia sonidera'\": 55,\n",
       " \"'classic bollywood'\": 55,\n",
       " \"'spanish pop'\": 55,\n",
       " \"'british invasion'\": 55,\n",
       " \"'funk metal'\": 54,\n",
       " \"'grunge'\": 54,\n",
       " \"'latin christian'\": 54,\n",
       " \"'classic italian pop'\": 54,\n",
       " \"'free jazz'\": 54,\n",
       " \"'appalachian folk'\": 54,\n",
       " \"'pop emo'\": 53,\n",
       " \"'american folk revival'\": 53,\n",
       " \"'jazz trumpet'\": 53,\n",
       " \"'nu jazz'\": 53,\n",
       " \"'contemporary jazz'\": 53,\n",
       " \"'glam rock'\": 52,\n",
       " \"'indie cafe pop'\": 52,\n",
       " \"'chicago rap'\": 52,\n",
       " \"'reggae rock'\": 51,\n",
       " \"'healing'\": 51,\n",
       " \"'chillhop'\": 51,\n",
       " \"'chamber pop'\": 51,\n",
       " \"'indie anthem-folk'\": 51,\n",
       " \"'vintage jazz'\": 51,\n",
       " \"'gbvfi'\": 51,\n",
       " \"'chicano rap'\": 50,\n",
       " \"'pop romantico'\": 50,\n",
       " \"'late romantic era'\": 50,\n",
       " \"'neo-psychedelic'\": 50,\n",
       " \"'uk post-punk'\": 49,\n",
       " \"'canadian pop'\": 49,\n",
       " \"'rebetiko'\": 49,\n",
       " \"'philly soul'\": 49,\n",
       " \"'acoustic blues'\": 49,\n",
       " \"'freakbeat'\": 48,\n",
       " \"'ragtime'\": 48,\n",
       " \"'classic canadian rock'\": 48,\n",
       " \"'corrido'\": 48,\n",
       " \"'bubblegum dance'\": 47,\n",
       " \"'mandopop'\": 47,\n",
       " \"'classic cantopop'\": 47,\n",
       " \"'forro'\": 47,\n",
       " \"'hyphy'\": 46,\n",
       " \"'la indie'\": 46,\n",
       " \"'jazz guitar'\": 46,\n",
       " '\"children\\'s music\"': 46,\n",
       " \"'alternative emo'\": 46,\n",
       " \"'dominican pop'\": 46,\n",
       " \"'alternative pop'\": 46,\n",
       " \"'ambient'\": 45,\n",
       " \"'desi hip hop'\": 45,\n",
       " \"'cantautor'\": 45,\n",
       " \"'vocal house'\": 45,\n",
       " \"'historic orchestral performance'\": 45,\n",
       " \"'trap queen'\": 45,\n",
       " \"'rap metal'\": 44,\n",
       " \"'dream pop'\": 44,\n",
       " \"'world'\": 44,\n",
       " \"'folk-pop'\": 44,\n",
       " \"'vintage chanson'\": 44,\n",
       " \"'merengue'\": 44,\n",
       " \"'meme rap'\": 43,\n",
       " \"'chicago blues'\": 43,\n",
       " \"'latin worship'\": 43,\n",
       " \"'comedy'\": 43,\n",
       " \"'modern reggae'\": 43,\n",
       " \"'death metal'\": 43,\n",
       " \"'baroque pop'\": 43,\n",
       " \"'indie punk'\": 43,\n",
       " \"'red dirt'\": 43,\n",
       " \"'nashville sound'\": 43,\n",
       " \"'industrial'\": 42,\n",
       " \"'canadian indie'\": 42,\n",
       " \"'australian rock'\": 42,\n",
       " \"'italian pop'\": 42,\n",
       " \"'hawaiian'\": 42,\n",
       " \"'afrobeat'\": 42,\n",
       " \"'torch song'\": 42,\n",
       " \"'banjo'\": 42,\n",
       " \"'classical tenor'\": 42,\n",
       " \"'freestyle'\": 42,\n",
       " \"'video game music'\": 42,\n",
       " \"'jazz blues'\": 42,\n",
       " \"'indie pop rap'\": 42,\n",
       " \"'trap soul'\": 41,\n",
       " \"'afropop'\": 41,\n",
       " \"'funk rock'\": 41,\n",
       " \"'pixie'\": 41,\n",
       " \"'dreamo'\": 41,\n",
       " \"'mexican rock-and-roll'\": 41,\n",
       " \"'celtic'\": 41,\n",
       " \"'exotica'\": 41,\n",
       " \"'space age pop'\": 41,\n",
       " \"'deep house'\": 41,\n",
       " \"'bow pop'\": 40,\n",
       " \"'girl group'\": 40,\n",
       " \"'indian classical'\": 40,\n",
       " \"'underground rap'\": 40,\n",
       " \"'early music'\": 40,\n",
       " \"'nueva cancion'\": 40,\n",
       " \"'argentine rock'\": 40,\n",
       " \"'ghazal'\": 40,\n",
       " \"'experimental rock'\": 40,\n",
       " \"'violin'\": 40,\n",
       " \"'j-pop'\": 39,\n",
       " \"'old school thrash'\": 39,\n",
       " \"'british folk'\": 39,\n",
       " \"'sleaze rock'\": 39,\n",
       " \"'country blues'\": 39,\n",
       " \"'contemporary gospel'\": 39,\n",
       " \"'trap latino'\": 38,\n",
       " \"'miami hip hop'\": 38,\n",
       " \"'traditional country'\": 38,\n",
       " \"'power metal'\": 38,\n",
       " \"'gothic rock'\": 38,\n",
       " \"'shoegaze'\": 38,\n",
       " \"'mariachi'\": 38,\n",
       " \"'progressive metal'\": 38,\n",
       " \"'classical bass'\": 38,\n",
       " \"'canterbury scene'\": 38,\n",
       " \"'atl trap'\": 38,\n",
       " \"'classic uk pop'\": 37,\n",
       " \"'post-screamo'\": 37,\n",
       " \"'folk punk'\": 37,\n",
       " \"'cantopop'\": 37,\n",
       " \"'thrash metal'\": 37,\n",
       " \"'roots americana'\": 37,\n",
       " \"'meditation'\": 37,\n",
       " \"'deep underground hip hop'\": 37,\n",
       " \"'noise pop'\": 37,\n",
       " \"'groove metal'\": 37,\n",
       " \"'beatlesque'\": 37,\n",
       " \"'oklahoma country'\": 37,\n",
       " \"'bachata'\": 36,\n",
       " \"'queens hip hop'\": 36,\n",
       " \"'neo-classical'\": 36,\n",
       " \"'gruperas inmortales'\": 36,\n",
       " \"'bronx hip hop'\": 36,\n",
       " \"'memphis soul'\": 36,\n",
       " \"'irish folk'\": 36,\n",
       " \"'pagode'\": 36,\n",
       " \"'candy pop'\": 36,\n",
       " \"'mexican rock'\": 36,\n",
       " \"'antiviral pop'\": 35,\n",
       " \"'bass trap'\": 35,\n",
       " \"'new orleans jazz'\": 35,\n",
       " \"'deep adult standards'\": 35,\n",
       " \"'vintage chinese pop'\": 35,\n",
       " \"'vapor twitch'\": 35,\n",
       " \"'bedroom pop'\": 35,\n",
       " \"'oi'\": 34,\n",
       " \"'chamber orchestra'\": 34,\n",
       " \"'vintage italian pop'\": 34,\n",
       " \"'rumba'\": 34,\n",
       " \"'salsa puertorriquena'\": 34,\n",
       " \"'baroque'\": 34,\n",
       " \"'roots worship'\": 34,\n",
       " \"'australian dance'\": 34,\n",
       " \"'surf music'\": 34,\n",
       " \"'christian relaxative'\": 34,\n",
       " \"'zolo'\": 34,\n",
       " \"'speed metal'\": 33,\n",
       " \"'canadian rock'\": 33,\n",
       " \"'choral'\": 33,\n",
       " \"'british soul'\": 33,\n",
       " \"'french pop'\": 33,\n",
       " \"'ninja'\": 33,\n",
       " \"'jazz drums'\": 33,\n",
       " \"'vocal harmony group'\": 33,\n",
       " \"'modern folk rock'\": 33,\n",
       " \"'chicago house'\": 32,\n",
       " \"'post-rock'\": 32,\n",
       " \"'italian tenor'\": 32,\n",
       " \"'operatic pop'\": 32,\n",
       " \"'vintage hollywood'\": 32,\n",
       " \"'indie electropop'\": 32,\n",
       " \"'swedish pop'\": 31,\n",
       " \"'jazz trio'\": 31,\n",
       " \"'northern soul'\": 31,\n",
       " \"'library music'\": 31,\n",
       " \"'neo classical metal'\": 31,\n",
       " \"'praise'\": 31,\n",
       " \"'deep southern trap'\": 30,\n",
       " \"'memphis hip hop'\": 30,\n",
       " \"'philly rap'\": 30,\n",
       " \"'deep indian pop'\": 30,\n",
       " \"'deep big room'\": 30,\n",
       " \"'deathcore'\": 30,\n",
       " \"'fourth world'\": 30,\n",
       " \"'flamenco'\": 30,\n",
       " \"'filter house'\": 30,\n",
       " \"'diva house'\": 30,\n",
       " \"'boston rock'\": 29,\n",
       " \"'japanese city pop'\": 29,\n",
       " \"'canzone napoletana'\": 29,\n",
       " \"'gaming edm'\": 29,\n",
       " \"'classical era'\": 29,\n",
       " \"'louisiana blues'\": 29,\n",
       " \"'anthem emo'\": 29,\n",
       " \"'neo-synthpop'\": 29,\n",
       " \"'australian indie'\": 29,\n",
       " \"'pinoy rock'\": 28,\n",
       " \"'soul blues'\": 28,\n",
       " \"'historically informed performance'\": 28,\n",
       " \"'modern ska punk'\": 28,\n",
       " \"'free improvisation'\": 28,\n",
       " \"'historic piano performance'\": 28,\n",
       " \"'hi-nrg'\": 28,\n",
       " \"'c86'\": 28,\n",
       " \"'indie jazz'\": 28,\n",
       " \"'jazz double bass'\": 28,\n",
       " \"'nyc rap'\": 27,\n",
       " \"'dark wave'\": 27,\n",
       " \"'drone'\": 27,\n",
       " \"'french rock'\": 27,\n",
       " \"'avant-garde'\": 27,\n",
       " \"'choro'\": 27,\n",
       " \"'calypso'\": 27,\n",
       " \"'celtic rock'\": 27,\n",
       " \"'cowboy western'\": 27,\n",
       " \"'trance'\": 26,\n",
       " \"'j-rock'\": 26,\n",
       " \"'classical mezzo-soprano'\": 26,\n",
       " \"'wrestling'\": 26,\n",
       " \"'brazilian composition'\": 26,\n",
       " \"'philly indie'\": 26,\n",
       " \"'indie surf'\": 26,\n",
       " \"'cancion melodica'\": 26,\n",
       " \"'hard alternative'\": 26,\n",
       " \"'experimental pop'\": 26,\n",
       " \"'entehno'\": 26,\n",
       " \"'contemporary classical'\": 26,\n",
       " \"'new french touch'\": 26,\n",
       " \"'banda caliente'\": 26,\n",
       " \"'cartoon'\": 26,\n",
       " \"'water'\": 26,\n",
       " \"'new jersey rap'\": 25,\n",
       " \"'classify'\": 25,\n",
       " \"'minneapolis sound'\": 25,\n",
       " \"'houston rap'\": 25,\n",
       " \"'stoner rock'\": 25,\n",
       " \"'catstep'\": 25,\n",
       " \"'korean pop'\": 25,\n",
       " \"'canadian singer-songwriter'\": 25,\n",
       " \"'colombian pop'\": 25,\n",
       " \"'native american'\": 25,\n",
       " \"'rare groove'\": 25,\n",
       " \"'uk dance'\": 25,\n",
       " \"'deep ccm'\": 25,\n",
       " \"'epicore'\": 25,\n",
       " \"'ska revival'\": 25,\n",
       " \"'ecm-style jazz'\": 25,\n",
       " \"'jazz quartet'\": 25,\n",
       " \"'tamil pop'\": 25,\n",
       " \"'new age piano'\": 25,\n",
       " \"'sunshine pop'\": 25,\n",
       " \"'intelligent dance music'\": 24,\n",
       " \"'chamber psych'\": 24,\n",
       " \"'la pop'\": 24,\n",
       " \"'american modern classical'\": 24,\n",
       " \"'vintage tango'\": 24,\n",
       " \"'gymcore'\": 24,\n",
       " \"'nyc pop'\": 24,\n",
       " \"'kirtan'\": 24,\n",
       " \"'tin pan alley'\": 24,\n",
       " \"'garage psych'\": 24,\n",
       " \"'cosmic american'\": 24,\n",
       " \"'new orleans blues'\": 24,\n",
       " \"'rock nacional'\": 24,\n",
       " \"'brazilian jazz'\": 24,\n",
       " \"'poetry'\": 24,\n",
       " \"'classic israeli pop'\": 24,\n",
       " \"'nu disco'\": 24,\n",
       " \"'jangle pop'\": 24,\n",
       " \"'modern hard rock'\": 24,\n",
       " \"'chicago soul'\": 24,\n",
       " \"'delta blues'\": 24,\n",
       " \"'deep disco'\": 24,\n",
       " \"'contemporary vocal jazz'\": 24,\n",
       " \"'k-pop girl group'\": 23,\n",
       " \"'canadian hip hop'\": 23,\n",
       " \"'lgbtq+ hip hop'\": 23,\n",
       " \"'old school dancehall'\": 23,\n",
       " \"'texas blues'\": 23,\n",
       " \"'italian bass'\": 23,\n",
       " \"'novelty'\": 23,\n",
       " \"'jump blues'\": 23,\n",
       " \"'country gospel'\": 23,\n",
       " \"'classical cello'\": 23,\n",
       " \"'canadian country'\": 23,\n",
       " \"'laiko'\": 23,\n",
       " \"'deep tropical house'\": 23,\n",
       " \"'e6fi'\": 23,\n",
       " \"'jazz trombone'\": 23,\n",
       " \"'instrumental bluegrass'\": 23,\n",
       " \"'polynesian pop'\": 23,\n",
       " \"'boogaloo'\": 23,\n",
       " \"'future funk'\": 22,\n",
       " \"'thrash core'\": 22,\n",
       " \"'jazz rap'\": 22,\n",
       " \"'anime'\": 22,\n",
       " \"'anime score'\": 22,\n",
       " \"'norwegian pop'\": 22,\n",
       " \"'world fusion'\": 22,\n",
       " \"'laboratorio'\": 22,\n",
       " \"'trova'\": 22,\n",
       " \"'classical baritone'\": 22,\n",
       " \"'impressionism'\": 22,\n",
       " \"'instrumental rock'\": 22,\n",
       " \"'noise rock'\": 22,\n",
       " \"'classic girl group'\": 22,\n",
       " \"'canadian metal'\": 21,\n",
       " \"'supergroup'\": 21,\n",
       " \"'space rock'\": 21,\n",
       " \"'dixieland'\": 21,\n",
       " \"'italian baritone'\": 21,\n",
       " \"'neo r&b'\": 21,\n",
       " \"'afrofuturism'\": 21,\n",
       " \"'progressive post-hardcore'\": 21,\n",
       " \"'emo punk'\": 21,\n",
       " \"'vintage italian soundtrack'\": 21,\n",
       " \"'southern soul blues'\": 21,\n",
       " \"'brooklyn indie'\": 21,\n",
       " \"'new orleans rap'\": 20,\n",
       " \"'ballroom'\": 20,\n",
       " \"'miami bass'\": 20,\n",
       " \"'hindustani classical'\": 20,\n",
       " \"'harmonica blues'\": 20,\n",
       " \"'early romantic era'\": 20,\n",
       " \"'orgcore'\": 20,\n",
       " \"'flamenco guitar'\": 20,\n",
       " \"'ye ye'\": 20,\n",
       " \"'italian opera'\": 20,\n",
       " \"'tecnobanda'\": 20,\n",
       " \"'piano blues'\": 20,\n",
       " \"'shamanic'\": 20,\n",
       " \"'bluegrass gospel'\": 20,\n",
       " \"'smooth saxophone'\": 20,\n",
       " \"'puerto rican pop'\": 19,\n",
       " \"'dirty texas rap'\": 19,\n",
       " \"'florida rap'\": 19,\n",
       " \"'uplifting trance'\": 19,\n",
       " \"'hardcore'\": 19,\n",
       " \"'straight edge'\": 19,\n",
       " \"'madchester'\": 19,\n",
       " \"'drill'\": 19,\n",
       " \"'k-rap'\": 19,\n",
       " \"'k-pop boy group'\": 19,\n",
       " \"'complextro'\": 19,\n",
       " \"'mambo'\": 19,\n",
       " \"'italian soprano'\": 19,\n",
       " \"'classical organ'\": 19,\n",
       " '\"punk \\'n\\' roll\"': 19,\n",
       " \"'deep groove house'\": 19,\n",
       " \"'arkansas country'\": 19,\n",
       " \"'australian alternative rock'\": 19,\n",
       " \"'classic praise'\": 19,\n",
       " \"'boom bap'\": 19,\n",
       " \"'tex-mex'\": 19,\n",
       " \"'modern southern rock'\": 19,\n",
       " \"'sound'\": 19,\n",
       " \"'psychedelic hip hop'\": 19,\n",
       " \"'phonk'\": 19,\n",
       " \"'harlem hip hop'\": 18,\n",
       " \"'uk hip hop'\": 18,\n",
       " \"'german techno'\": 18,\n",
       " \"'abstract hip hop'\": 18,\n",
       " \"'stoner metal'\": 18,\n",
       " \"'crossover thrash'\": 18,\n",
       " \"'soca'\": 18,\n",
       " \"'operetta'\": 18,\n",
       " \"'string quartet'\": 18,\n",
       " \"'neoclassicism'\": 18,\n",
       " \"'british singer-songwriter'\": 18,\n",
       " \"'scottish new wave'\": 18,\n",
       " \"'steampunk'\": 18,\n",
       " \"'boogie-woogie'\": 18,\n",
       " \"'gospel r&b'\": 18,\n",
       " \"'ectofolk'\": 18,\n",
       " \"'modern funk'\": 18,\n",
       " \"'italian disco'\": 18,\n",
       " \"'detroit hip hop'\": 18,\n",
       " \"'jazz organ'\": 18,\n",
       " \"'memphis blues'\": 18,\n",
       " \"'bakersfield sound'\": 18,\n",
       " \"'psychedelic folk'\": 18,\n",
       " \"'bass house'\": 18,\n",
       " \"'swedish electropop'\": 18,\n",
       " \"'deep christian rock'\": 17,\n",
       " \"'anime rock'\": 17,\n",
       " \"'acid house'\": 17,\n",
       " \"'drum and bass'\": 17,\n",
       " \"'progressive trance'\": 17,\n",
       " \"'j-poprock'\": 17,\n",
       " \"'uk82'\": 17,\n",
       " \"'doom metal'\": 17,\n",
       " \"'spanish new wave'\": 17,\n",
       " \"'rock drums'\": 17,\n",
       " \"'historic classical performance'\": 17,\n",
       " \"'uk contemporary r&b'\": 17,\n",
       " \"'dfw rap'\": 17,\n",
       " \"'microhouse'\": 17,\n",
       " \"'wonky'\": 17,\n",
       " \"'talent show'\": 17,\n",
       " \"'soul flow'\": 17,\n",
       " \"'western swing'\": 17,\n",
       " \"'british choir'\": 17,\n",
       " \"'deep norteno'\": 17,\n",
       " \"'trancecore'\": 16,\n",
       " \"'baroque ensemble'\": 16,\n",
       " \"'jazz clarinet'\": 16,\n",
       " \"'tango'\": 16,\n",
       " \"'baile pop'\": 16,\n",
       " \"'nova mpb'\": 16,\n",
       " \"'classic swedish pop'\": 16,\n",
       " \"'deep soft rock'\": 16,\n",
       " \"'spirituals'\": 16,\n",
       " \"'italian baroque'\": 16,\n",
       " \"'comic metal'\": 16,\n",
       " \"'spanish pop rock'\": 16,\n",
       " \"'chicago punk'\": 16,\n",
       " \"'australian hip hop'\": 16,\n",
       " \"'sertanejo'\": 16,\n",
       " \"'sertanejo universitario'\": 16,\n",
       " \"'acid rock'\": 16,\n",
       " \"'jazztronica'\": 16,\n",
       " \"'christian hip hop'\": 16,\n",
       " \"'spanish classical'\": 16,\n",
       " \"'breakbeat'\": 16,\n",
       " \"'rabindra sangeet'\": 16,\n",
       " \"'theme'\": 16,\n",
       " \"'lullaby'\": 16,\n",
       " \"'instrumental funk'\": 16,\n",
       " \"'brazilian rock'\": 16,\n",
       " \"'british soundtrack'\": 16,\n",
       " \"'bangla'\": 16,\n",
       " \"'jamgrass'\": 16,\n",
       " \"'cowpunk'\": 16,\n",
       " \"'ebm'\": 16,\n",
       " \"'classic pakistani pop'\": 16,\n",
       " \"'ethereal wave'\": 16,\n",
       " \"'norteno-sax'\": 16,\n",
       " \"'slack-key guitar'\": 16,\n",
       " \"'bay area indie'\": 16,\n",
       " \"'power-pop punk'\": 16,\n",
       " \"'mexican indie'\": 15,\n",
       " \"'white noise'\": 15,\n",
       " \"'riot grrrl'\": 15,\n",
       " \"'grime'\": 15,\n",
       " \"'classic arab pop'\": 15,\n",
       " \"'rebel blues'\": 15,\n",
       " \"'new jersey indie'\": 15,\n",
       " \"'djent'\": 15,\n",
       " \"'vintage schlager'\": 15,\n",
       " \"'outsider'\": 15,\n",
       " \"'russian romanticism'\": 15,\n",
       " \"'swedish jazz'\": 15,\n",
       " \"'hopebeat'\": 15,\n",
       " \"'socal pop punk'\": 15,\n",
       " \"'british modern classical'\": 15,\n",
       " \"'minimalism'\": 15,\n",
       " \"'p funk'\": 15,\n",
       " \"'garage rock revival'\": 15,\n",
       " \"'battle rap'\": 15,\n",
       " \"'scottish indie'\": 15,\n",
       " \"'atmosphere'\": 15,\n",
       " \"'instrumental soul'\": 15,\n",
       " \"'baton rouge rap'\": 15,\n",
       " \"'korean r&b'\": 15,\n",
       " \"'salsa colombiana'\": 15,\n",
       " \"'bedroom soul'\": 15,\n",
       " \"'swamp rock'\": 15,\n",
       " \"'hammond organ'\": 15,\n",
       " \"'nc hip hop'\": 14,\n",
       " \"'no wave'\": 14,\n",
       " \"'italian mezzo-soprano'\": 14,\n",
       " \"'latin classical'\": 14,\n",
       " \"'classical guitar'\": 14,\n",
       " \"'french soundtrack'\": 14,\n",
       " \"'haitian traditional'\": 14,\n",
       " \"'classic colombian pop'\": 14,\n",
       " \"'vallenato'\": 14,\n",
       " \"'pop reggaeton'\": 14,\n",
       " \"'swedish metal'\": 14,\n",
       " \"'hindustani vocal'\": 14,\n",
       " \"'chicago indie'\": 14,\n",
       " \"'bolero cubano'\": 14,\n",
       " \"'new orleans funk'\": 14,\n",
       " \"'post-disco soul'\": 14,\n",
       " \"'swamp pop'\": 14,\n",
       " \"'rosary'\": 14,\n",
       " \"'traditional rockabilly'\": 14,\n",
       " \"'piedmont blues'\": 14,\n",
       " \"'cabaret'\": 14,\n",
       " \"'brass band'\": 14,\n",
       " \"'art punk'\": 14,\n",
       " \"'garage pop'\": 14,\n",
       " \"'panamanian pop'\": 14,\n",
       " \"'hardcore techno'\": 13,\n",
       " \"'sludge metal'\": 13,\n",
       " \"'canadian electronic'\": 13,\n",
       " \"'american contemporary classical'\": 13,\n",
       " \"'nyhc'\": 13,\n",
       " \"'mexican hip hop'\": 13,\n",
       " \"'melodic death metal'\": 13,\n",
       " \"'opera chorus'\": 13,\n",
       " \"'midwest emo'\": 13,\n",
       " \"'rap latina'\": 13,\n",
       " \"'underground power pop'\": 13,\n",
       " \"'classic persian pop'\": 13,\n",
       " \"'greek pop'\": 13,\n",
       " \"'dmv rap'\": 13,\n",
       " \"'jazz vibraphone'\": 13,\n",
       " \"'christian metal'\": 13,\n",
       " \"'alternative roots rock'\": 13,\n",
       " \"'bboy'\": 13,\n",
       " \"'highlife'\": 13,\n",
       " \"'neoclassical darkwave'\": 13,\n",
       " \"'rock urbano mexicano'\": 13,\n",
       " \"'banda carnavalera'\": 13,\n",
       " \"'french jazz'\": 13,\n",
       " \"'moombahton'\": 13,\n",
       " \"'scottish rock'\": 13,\n",
       " \"'piano cover'\": 13,\n",
       " \"'electro swing'\": 13,\n",
       " \"'electroclash'\": 13,\n",
       " \"'honky tonk'\": 13,\n",
       " \"'canadian contemporary country'\": 13,\n",
       " \"'alternative pop rock'\": 12,\n",
       " \"'east coast reggae'\": 12,\n",
       " \"'manila sound'\": 12,\n",
       " \"'renaissance'\": 12,\n",
       " \"'french indie pop'\": 12,\n",
       " \"'riddim'\": 12,\n",
       " \"'aussietronica'\": 12,\n",
       " \"'nwobhm'\": 12,\n",
       " '\"canzone d\\'autore\"': 12,\n",
       " \"'new weird america'\": 12,\n",
       " \"'israeli rock'\": 12,\n",
       " \"'modern dream pop'\": 12,\n",
       " \"'minnesota hip hop'\": 12,\n",
       " \"'ska argentino'\": 12,\n",
       " \"'folktronica'\": 12,\n",
       " \"'radio symphony'\": 12,\n",
       " \"'rock nacional brasileiro'\": 12,\n",
       " \"'glitch hop'\": 12,\n",
       " \"'psychobilly'\": 12,\n",
       " \"'athens indie'\": 12,\n",
       " \"'kiwi rock'\": 12,\n",
       " \"'chopped and screwed'\": 12,\n",
       " \"'southern gospel'\": 12,\n",
       " \"'dark post-punk'\": 12,\n",
       " \"'medieval folk'\": 12,\n",
       " \"'swedish alternative rock'\": 12,\n",
       " \"'brutal death metal'\": 12,\n",
       " \"'austindie'\": 12,\n",
       " \"'classical contralto'\": 12,\n",
       " \"'brazilian indie'\": 12,\n",
       " \"'taiwan campus folk'\": 12,\n",
       " \"'german rock'\": 12,\n",
       " \"'early reggae'\": 12,\n",
       " \"'jazz violin'\": 12,\n",
       " \"'early us punk'\": 12,\n",
       " \"'classical flute'\": 12,\n",
       " \"'swedish synthpop'\": 12,\n",
       " \"'modern power pop'\": 12,\n",
       " \"'native american flute'\": 12,\n",
       " \"'hyperpop'\": 11,\n",
       " \"'electropowerpop'\": 11,\n",
       " \"'techno'\": 11,\n",
       " \"'drift'\": 11,\n",
       " \"'pinoy indie'\": 11,\n",
       " \"'vapor pop'\": 11,\n",
       " \"'traprun'\": 11,\n",
       " \"'arab folk'\": 11,\n",
       " \"'german metal'\": 11,\n",
       " \"'french opera'\": 11,\n",
       " \"'arab pop'\": 11,\n",
       " \"'spytrack'\": 11,\n",
       " \"'german opera'\": 11,\n",
       " \"'russian modern classical'\": 11,\n",
       " \"'etherpop'\": 11,\n",
       " \"'brega'\": 11,\n",
       " \"'reggae en espanol'\": 11,\n",
       " \"'psychedelic blues-rock'\": 11,\n",
       " \"'clean comedy'\": 11,\n",
       " \"'twee pop'\": 11,\n",
       " \"'galante era'\": 11,\n",
       " \"'violao'\": 11,\n",
       " \"'slayer'\": 11,\n",
       " \"'west coast reggae'\": 11,\n",
       " \"'beach music'\": 11,\n",
       " \"'rock gaucho'\": 11,\n",
       " \"'black metal'\": 11,\n",
       " \"'gauze pop'\": 11,\n",
       " \"'christian punk'\": 11,\n",
       " \"'chinese indie'\": 11,\n",
       " \"'carnatic'\": 11,\n",
       " \"'carnatic vocal'\": 11,\n",
       " \"'irish singer-songwriter'\": 11,\n",
       " \"'shred'\": 11,\n",
       " \"'alabama rap'\": 11,\n",
       " \"'welsh rock'\": 11,\n",
       " \"'vintage classical singing'\": 11,\n",
       " \"'shibuya-kei'\": 11,\n",
       " \"'glam punk'\": 11,\n",
       " \"'german pop'\": 11,\n",
       " \"'christian indie'\": 11,\n",
       " \"'nigerian pop'\": 10,\n",
       " \"'electro-industrial'\": 10,\n",
       " \"'acoustic punk'\": 10,\n",
       " \"'psychedelic doom'\": 10,\n",
       " \"'idol'\": 10,\n",
       " \"'deep ragga'\": 10,\n",
       " \"'chillstep'\": 10,\n",
       " \"'chilean rock'\": 10,\n",
       " \"'turkish jazz'\": 10,\n",
       " \"'british dance band'\": 10,\n",
       " \"'vintage french electronic'\": 10,\n",
       " \"'canadian contemporary r&b'\": 10,\n",
       " \"'fingerstyle'\": 10,\n",
       " \"'mande pop'\": 10,\n",
       " \"'spiritual jazz'\": 10,\n",
       " \"'electra'\": 10,\n",
       " \"'christian uplift'\": 10,\n",
       " \"'retro soul'\": 10,\n",
       " '\"children\\'s folk\"': 10,\n",
       " \"'nederpop'\": 10,\n",
       " \"'chicha'\": 10,\n",
       " \"'dutch pop'\": 10,\n",
       " \"'chutney'\": 10,\n",
       " \"'nz pop'\": 10,\n",
       " \"'deep contemporary country'\": 10,\n",
       " \"'tribal house'\": 10,\n",
       " \"'uk americana'\": 10,\n",
       " \"'olympia wa indie'\": 10,\n",
       " \"'jazz brass'\": 10,\n",
       " \"'boston hip hop'\": 10,\n",
       " \"'yodeling'\": 10,\n",
       " \"'classic venezuelan pop'\": 10,\n",
       " \"'australian electropop'\": 10,\n",
       " \"'jazz rock'\": 10,\n",
       " \"'canadian folk'\": 10,\n",
       " \"'a cappella'\": 10,\n",
       " \"'merengue tipico'\": 10,\n",
       " \"'neue deutsche welle'\": 10,\n",
       " \"'german baroque'\": 10,\n",
       " \"'shiver pop'\": 10,\n",
       " \"'mandolin'\": 10,\n",
       " \"'crust punk'\": 10,\n",
       " \"'irish rock'\": 10,\n",
       " \"'lds'\": 10,\n",
       " \"'moog'\": 10,\n",
       " \"'melodic metal'\": 10,\n",
       " \"'livetronica'\": 10,\n",
       " \"'teen pop'\": 10,\n",
       " \"'light music'\": 10,\n",
       " \"'japanese chillhop'\": 10,\n",
       " \"'detroit trap'\": 9,\n",
       " \"'german dance'\": 9,\n",
       " \"'nu-cumbia'\": 9,\n",
       " \"'rock cristiano'\": 9,\n",
       " \"'salsa venezolana'\": 9,\n",
       " \"'dutch house'\": 9,\n",
       " \"'comedy rap'\": 9,\n",
       " \"'surf punk'\": 9,\n",
       " \"'turkish rock'\": 9,\n",
       " \"'nouvelle chanson francaise'\": 9,\n",
       " \"'swing italiano'\": 9,\n",
       " \"'alternative americana'\": 9,\n",
       " \"'classical clarinet'\": 9,\n",
       " \"'krautrock'\": 9,\n",
       " \"'scandipop'\": 9,\n",
       " \"'christian trap'\": 9,\n",
       " \"'cumbia salvadorena'\": 9,\n",
       " \"'symphonic metal'\": 9,\n",
       " \"'synthwave'\": 9,\n",
       " \"'uk reggae'\": 9,\n",
       " \"'minimal techno'\": 9,\n",
       " \"'dc hardcore'\": 9,\n",
       " \"'brazilian soul'\": 9,\n",
       " \"'latin metal'\": 9,\n",
       " \"'monastic'\": 9,\n",
       " \"'bounce'\": 9,\n",
       " \"'canadian punk'\": 9,\n",
       " \"'portland indie'\": 9,\n",
       " \"'palm desert scene'\": 9,\n",
       " \"'grunge pop'\": 9,\n",
       " \"'new comedy'\": 9,\n",
       " '\"preschool children\\'s music\"': 9,\n",
       " \"'popping'\": 9,\n",
       " \"'brit funk'\": 9,\n",
       " \"'neo-singer-songwriter'\": 9,\n",
       " \"'electronic rock'\": 9,\n",
       " \"'german choir'\": 9,\n",
       " \"'alberta country'\": 9,\n",
       " \"'taiwan pop'\": 9,\n",
       " \"'kawaii future bass'\": 9,\n",
       " \"'grave wave'\": 9,\n",
       " \"'classic greek pop'\": 9,\n",
       " \"'swedish indie pop'\": 9,\n",
       " \"'parody'\": 8,\n",
       " \"'zapstep'\": 8,\n",
       " \"'vaporwave'\": 8,\n",
       " \"'string band'\": 8,\n",
       " \"'vocal trance'\": 8,\n",
       " \"'deathrock'\": 8,\n",
       " \"'rave'\": 8,\n",
       " \"'canadian ccm'\": 8,\n",
       " ...}"
      ]
     },
     "execution_count": 180,
     "metadata": {},
     "output_type": "execute_result"
    }
   ],
   "source": [
    "{k: v for k, v in sorted(freq.items(), key=lambda item: item[1], reverse=True)}"
   ]
  },
  {
   "cell_type": "code",
   "execution_count": 197,
   "metadata": {},
   "outputs": [],
   "source": [
    "genredict = {'pop': ['pop', 'indie pop', 'new wave pop', 'electropop', 'art pop', 'europop'],\n",
    "             'rock': ['rock'],\n",
    "             'hiphop': ['hip hop', 'rap', 'urban contemporary'],\n",
    "             'country': ['country', 'contemporary country', 'traditional folk', 'country road'],\n",
    "             'blues': ['blues', 'electric blues', 'traditional blues', 'modern blues', 'acoustic blues', \n",
    "                     'chicago blues', 'soul blues', 'new orleans blues', 'blues rock'],\n",
    "             'reggae': ['reggae', 'roots reggae', 'reggae fusion', 'modern reggae', 'east coast reggae', \n",
    "                      'early reggae', 'west coast reggae'],\n",
    "             'metal': ['metal', 'alternative metal', 'metalcore', 'death metal', 'industrial metal', \n",
    "                       'melodic metalcore', 'glam metal', 'nu metal', 'funk metal', 'power metal', \n",
    "                       'progressive metal', 'thrash metal', 'groove metal', 'speed metal'],\n",
    "             'jazz': ['jazz', 'cool jazz', 'vocal jazz', 'smooth jazz', 'jazz quartet', 'jazz trio', \n",
    "                    'contemporary jazz'],\n",
    "             'disco': ['disco', 'funk', 'post-disco', 'disco house', 'nu disco', 'italian disco', 'deep disco'],\n",
    "             'classical': ['classical', 'classical performance', 'opera', 'orchestral performance',\n",
    "                         'early modern classical']}"
   ]
  },
  {
   "cell_type": "markdown",
   "metadata": {},
   "source": [
    "## Start cleaning"
   ]
  },
  {
   "cell_type": "markdown",
   "metadata": {},
   "source": [
    "### Drop rows where genre column is blank"
   ]
  },
  {
   "cell_type": "code",
   "execution_count": 198,
   "metadata": {},
   "outputs": [],
   "source": [
    "df_gen = df_gen.loc[(df_gen['genres'] != '[]')]\n",
    "df_gen = df_gen.reset_index()\n",
    "df_gen = df_gen.drop('index', axis=1)"
   ]
  },
  {
   "cell_type": "markdown",
   "metadata": {},
   "source": [
    "### Reformat genre column so each row is a list rather than one long string\n",
    "- chop the last character off each row in genre\n",
    "- split each row by comma\n",
    "- chop the first 2 characters and last 1 character off each item after the split"
   ]
  },
  {
   "cell_type": "code",
   "execution_count": 199,
   "metadata": {},
   "outputs": [],
   "source": [
    "df_gen['genre-1'] = df_gen['genres'].map(lambda x: x[:-1])\n",
    "df_gen['genre_split'] = df_gen['genre-1'].str.split(pat=',')"
   ]
  },
  {
   "cell_type": "code",
   "execution_count": 200,
   "metadata": {},
   "outputs": [],
   "source": [
    "genre_lists = []\n",
    "\n",
    "for i in df_gen['genre_split']:\n",
    "    clean = []\n",
    "    for item in i:\n",
    "        clean.append(item[2:-1])\n",
    "    genre_lists.append(clean)"
   ]
  },
  {
   "cell_type": "code",
   "execution_count": 201,
   "metadata": {},
   "outputs": [],
   "source": [
    "genre_lists = pd.Series(genre_lists)\n",
    "df_genre = pd.concat([df_gen,genre_lists], axis=1)"
   ]
  },
  {
   "cell_type": "code",
   "execution_count": 202,
   "metadata": {},
   "outputs": [],
   "source": [
    "df_genre = df_genre.drop(['genres', 'genre-1', 'genre_split'], axis=1)\n",
    "df_genre.rename(columns={0:'genre'}, inplace=True)"
   ]
  },
  {
   "cell_type": "code",
   "execution_count": 203,
   "metadata": {},
   "outputs": [],
   "source": [
    "# Iterate through genredict for each macrogenre, and check the listed sub-genres for every row in the df\n",
    "# Create a dataframe with a column for each macrogenre and the same indexing as the original dataset\n",
    "# If a given row in the original data has one of the sub-genres contained within a macrogenre in genredict,\n",
    "#     flag that row in the appropriate column of the generated macrogenre df\n",
    "\n",
    "macrogenredf = None\n",
    "\n",
    "for n, key in enumerate(genredict):\n",
    "\n",
    "    genlist = []\n",
    "    for i in df_genre.genre:\n",
    "        \n",
    "        for item in i:\n",
    "            \n",
    "            subgenlist = []\n",
    "            for g in genredict.get(key):\n",
    "                \n",
    "                if g == item:\n",
    "                    subgenlist.append(g)\n",
    "                else:\n",
    "                    continue\n",
    "        genlist.append(str(subgenlist))\n",
    "    \n",
    "    if n == 0:\n",
    "        macrogenredf = pd.Series(genlist, name=key)\n",
    "    else:\n",
    "        macrogenredf = pd.concat([macrogenredf, pd.Series(genlist, name=key)], axis=1)\n",
    "    "
   ]
  },
  {
   "cell_type": "code",
   "execution_count": 204,
   "metadata": {},
   "outputs": [],
   "source": [
    "# convert macrogenre columns to dummy variables\n",
    "for i in macrogenredf.columns:\n",
    "    macrogenredf[i].loc[macrogenredf[i] != '[]'] = 1"
   ]
  },
  {
   "cell_type": "code",
   "execution_count": 205,
   "metadata": {},
   "outputs": [],
   "source": [
    "for i in macrogenredf.columns:\n",
    "    macrogenredf[i].loc[macrogenredf[i] == '[]'] = 0"
   ]
  },
  {
   "cell_type": "code",
   "execution_count": 213,
   "metadata": {},
   "outputs": [
    {
     "data": {
      "text/html": [
       "<div>\n",
       "<style scoped>\n",
       "    .dataframe tbody tr th:only-of-type {\n",
       "        vertical-align: middle;\n",
       "    }\n",
       "\n",
       "    .dataframe tbody tr th {\n",
       "        vertical-align: top;\n",
       "    }\n",
       "\n",
       "    .dataframe thead th {\n",
       "        text-align: right;\n",
       "    }\n",
       "</style>\n",
       "<table border=\"1\" class=\"dataframe\">\n",
       "  <thead>\n",
       "    <tr style=\"text-align: right;\">\n",
       "      <th></th>\n",
       "      <th>pop</th>\n",
       "      <th>rock</th>\n",
       "      <th>hiphop</th>\n",
       "      <th>country</th>\n",
       "      <th>blues</th>\n",
       "      <th>reggae</th>\n",
       "      <th>metal</th>\n",
       "      <th>jazz</th>\n",
       "      <th>disco</th>\n",
       "      <th>classical</th>\n",
       "    </tr>\n",
       "  </thead>\n",
       "  <tbody>\n",
       "    <tr>\n",
       "      <th>2</th>\n",
       "      <td>0</td>\n",
       "      <td>0</td>\n",
       "      <td>1</td>\n",
       "      <td>0</td>\n",
       "      <td>0</td>\n",
       "      <td>0</td>\n",
       "      <td>0</td>\n",
       "      <td>0</td>\n",
       "      <td>0</td>\n",
       "      <td>0</td>\n",
       "    </tr>\n",
       "    <tr>\n",
       "      <th>23</th>\n",
       "      <td>0</td>\n",
       "      <td>0</td>\n",
       "      <td>1</td>\n",
       "      <td>0</td>\n",
       "      <td>0</td>\n",
       "      <td>0</td>\n",
       "      <td>0</td>\n",
       "      <td>0</td>\n",
       "      <td>0</td>\n",
       "      <td>0</td>\n",
       "    </tr>\n",
       "    <tr>\n",
       "      <th>24</th>\n",
       "      <td>0</td>\n",
       "      <td>0</td>\n",
       "      <td>1</td>\n",
       "      <td>0</td>\n",
       "      <td>0</td>\n",
       "      <td>0</td>\n",
       "      <td>0</td>\n",
       "      <td>0</td>\n",
       "      <td>0</td>\n",
       "      <td>0</td>\n",
       "    </tr>\n",
       "    <tr>\n",
       "      <th>34</th>\n",
       "      <td>0</td>\n",
       "      <td>0</td>\n",
       "      <td>1</td>\n",
       "      <td>0</td>\n",
       "      <td>0</td>\n",
       "      <td>0</td>\n",
       "      <td>0</td>\n",
       "      <td>0</td>\n",
       "      <td>0</td>\n",
       "      <td>0</td>\n",
       "    </tr>\n",
       "    <tr>\n",
       "      <th>60</th>\n",
       "      <td>0</td>\n",
       "      <td>0</td>\n",
       "      <td>1</td>\n",
       "      <td>0</td>\n",
       "      <td>0</td>\n",
       "      <td>0</td>\n",
       "      <td>0</td>\n",
       "      <td>0</td>\n",
       "      <td>0</td>\n",
       "      <td>0</td>\n",
       "    </tr>\n",
       "    <tr>\n",
       "      <th>...</th>\n",
       "      <td>...</td>\n",
       "      <td>...</td>\n",
       "      <td>...</td>\n",
       "      <td>...</td>\n",
       "      <td>...</td>\n",
       "      <td>...</td>\n",
       "      <td>...</td>\n",
       "      <td>...</td>\n",
       "      <td>...</td>\n",
       "      <td>...</td>\n",
       "    </tr>\n",
       "    <tr>\n",
       "      <th>17621</th>\n",
       "      <td>0</td>\n",
       "      <td>0</td>\n",
       "      <td>1</td>\n",
       "      <td>0</td>\n",
       "      <td>0</td>\n",
       "      <td>0</td>\n",
       "      <td>0</td>\n",
       "      <td>0</td>\n",
       "      <td>0</td>\n",
       "      <td>0</td>\n",
       "    </tr>\n",
       "    <tr>\n",
       "      <th>17741</th>\n",
       "      <td>0</td>\n",
       "      <td>0</td>\n",
       "      <td>1</td>\n",
       "      <td>0</td>\n",
       "      <td>0</td>\n",
       "      <td>0</td>\n",
       "      <td>0</td>\n",
       "      <td>0</td>\n",
       "      <td>0</td>\n",
       "      <td>0</td>\n",
       "    </tr>\n",
       "    <tr>\n",
       "      <th>17801</th>\n",
       "      <td>0</td>\n",
       "      <td>0</td>\n",
       "      <td>1</td>\n",
       "      <td>0</td>\n",
       "      <td>0</td>\n",
       "      <td>0</td>\n",
       "      <td>0</td>\n",
       "      <td>0</td>\n",
       "      <td>0</td>\n",
       "      <td>0</td>\n",
       "    </tr>\n",
       "    <tr>\n",
       "      <th>17853</th>\n",
       "      <td>0</td>\n",
       "      <td>0</td>\n",
       "      <td>1</td>\n",
       "      <td>0</td>\n",
       "      <td>0</td>\n",
       "      <td>0</td>\n",
       "      <td>0</td>\n",
       "      <td>0</td>\n",
       "      <td>0</td>\n",
       "      <td>0</td>\n",
       "    </tr>\n",
       "    <tr>\n",
       "      <th>17928</th>\n",
       "      <td>0</td>\n",
       "      <td>0</td>\n",
       "      <td>1</td>\n",
       "      <td>0</td>\n",
       "      <td>0</td>\n",
       "      <td>0</td>\n",
       "      <td>0</td>\n",
       "      <td>0</td>\n",
       "      <td>0</td>\n",
       "      <td>0</td>\n",
       "    </tr>\n",
       "  </tbody>\n",
       "</table>\n",
       "<p>546 rows × 10 columns</p>\n",
       "</div>"
      ],
      "text/plain": [
       "      pop rock hiphop country blues reggae metal jazz disco classical\n",
       "2       0    0      1       0     0      0     0    0     0         0\n",
       "23      0    0      1       0     0      0     0    0     0         0\n",
       "24      0    0      1       0     0      0     0    0     0         0\n",
       "34      0    0      1       0     0      0     0    0     0         0\n",
       "60      0    0      1       0     0      0     0    0     0         0\n",
       "...    ..  ...    ...     ...   ...    ...   ...  ...   ...       ...\n",
       "17621   0    0      1       0     0      0     0    0     0         0\n",
       "17741   0    0      1       0     0      0     0    0     0         0\n",
       "17801   0    0      1       0     0      0     0    0     0         0\n",
       "17853   0    0      1       0     0      0     0    0     0         0\n",
       "17928   0    0      1       0     0      0     0    0     0         0\n",
       "\n",
       "[546 rows x 10 columns]"
      ]
     },
     "execution_count": 213,
     "metadata": {},
     "output_type": "execute_result"
    }
   ],
   "source": [
    "macrogenredf.loc[macrogenredf['hiphop'] != 0]"
   ]
  },
  {
   "cell_type": "code",
   "execution_count": 207,
   "metadata": {},
   "outputs": [
    {
     "name": "stdout",
     "output_type": "stream",
     "text": [
      "pop 287\n",
      "rock 301\n",
      "hiphop 546\n",
      "country 308\n",
      "blues 101\n",
      "reggae 120\n",
      "metal 114\n",
      "jazz 265\n",
      "disco 115\n",
      "classical 281\n"
     ]
    }
   ],
   "source": [
    "# check the number of rows flagged for each genre to check for class imbalance issues\n",
    "for i in macrogenredf.columns:\n",
    "    print(i, macrogenredf[i].sum())"
   ]
  },
  {
   "cell_type": "code",
   "execution_count": 225,
   "metadata": {},
   "outputs": [
    {
     "name": "stdout",
     "output_type": "stream",
     "text": [
      "18091\n"
     ]
    },
    {
     "data": {
      "text/plain": [
       "18091"
      ]
     },
     "execution_count": 225,
     "metadata": {},
     "output_type": "execute_result"
    }
   ],
   "source": [
    "print(len(df_genre))\n",
    "len(macrogenredf)"
   ]
  },
  {
   "cell_type": "code",
   "execution_count": 220,
   "metadata": {},
   "outputs": [],
   "source": [
    "full_df_all = pd.concat([df_genre, macrogenredf], axis=1)"
   ]
  },
  {
   "cell_type": "code",
   "execution_count": 221,
   "metadata": {},
   "outputs": [
    {
     "name": "stdout",
     "output_type": "stream",
     "text": [
      "<class 'pandas.core.frame.DataFrame'>\n",
      "RangeIndex: 18091 entries, 0 to 18090\n",
      "Data columns (total 26 columns):\n",
      " #   Column            Non-Null Count  Dtype  \n",
      "---  ------            --------------  -----  \n",
      " 0   artists           18091 non-null  object \n",
      " 1   acousticness      18091 non-null  float64\n",
      " 2   danceability      18091 non-null  float64\n",
      " 3   duration_ms       18091 non-null  float64\n",
      " 4   energy            18091 non-null  float64\n",
      " 5   instrumentalness  18091 non-null  float64\n",
      " 6   liveness          18091 non-null  float64\n",
      " 7   loudness          18091 non-null  float64\n",
      " 8   speechiness       18091 non-null  float64\n",
      " 9   tempo             18091 non-null  float64\n",
      " 10  valence           18091 non-null  float64\n",
      " 11  popularity        18091 non-null  float64\n",
      " 12  key               18091 non-null  int64  \n",
      " 13  mode              18091 non-null  int64  \n",
      " 14  count             18091 non-null  int64  \n",
      " 15  genre             18091 non-null  object \n",
      " 16  pop               18091 non-null  object \n",
      " 17  rock              18091 non-null  object \n",
      " 18  hiphop            18091 non-null  object \n",
      " 19  country           18091 non-null  object \n",
      " 20  blues             18091 non-null  object \n",
      " 21  reggae            18091 non-null  object \n",
      " 22  metal             18091 non-null  object \n",
      " 23  jazz              18091 non-null  object \n",
      " 24  disco             18091 non-null  object \n",
      " 25  classical         18091 non-null  object \n",
      "dtypes: float64(11), int64(3), object(12)\n",
      "memory usage: 3.6+ MB\n"
     ]
    }
   ],
   "source": [
    "full_df_all.info()"
   ]
  },
  {
   "cell_type": "code",
   "execution_count": 226,
   "metadata": {},
   "outputs": [],
   "source": [
    "full_df = full_df_all.drop(['artists', 'duration_ms', 'key', 'mode', 'count', 'genre'], axis=1)"
   ]
  },
  {
   "cell_type": "code",
   "execution_count": 227,
   "metadata": {},
   "outputs": [
    {
     "data": {
      "text/html": [
       "<div>\n",
       "<style scoped>\n",
       "    .dataframe tbody tr th:only-of-type {\n",
       "        vertical-align: middle;\n",
       "    }\n",
       "\n",
       "    .dataframe tbody tr th {\n",
       "        vertical-align: top;\n",
       "    }\n",
       "\n",
       "    .dataframe thead th {\n",
       "        text-align: right;\n",
       "    }\n",
       "</style>\n",
       "<table border=\"1\" class=\"dataframe\">\n",
       "  <thead>\n",
       "    <tr style=\"text-align: right;\">\n",
       "      <th></th>\n",
       "      <th>acousticness</th>\n",
       "      <th>danceability</th>\n",
       "      <th>energy</th>\n",
       "      <th>instrumentalness</th>\n",
       "      <th>liveness</th>\n",
       "      <th>loudness</th>\n",
       "      <th>speechiness</th>\n",
       "      <th>tempo</th>\n",
       "      <th>valence</th>\n",
       "      <th>popularity</th>\n",
       "      <th>pop</th>\n",
       "      <th>rock</th>\n",
       "      <th>hiphop</th>\n",
       "      <th>country</th>\n",
       "      <th>blues</th>\n",
       "      <th>reggae</th>\n",
       "      <th>metal</th>\n",
       "      <th>jazz</th>\n",
       "      <th>disco</th>\n",
       "      <th>classical</th>\n",
       "    </tr>\n",
       "  </thead>\n",
       "  <tbody>\n",
       "    <tr>\n",
       "      <th>0</th>\n",
       "      <td>0.575083</td>\n",
       "      <td>0.442750</td>\n",
       "      <td>0.386336</td>\n",
       "      <td>0.022717</td>\n",
       "      <td>0.287708</td>\n",
       "      <td>-14.205417</td>\n",
       "      <td>0.180675</td>\n",
       "      <td>115.983500</td>\n",
       "      <td>0.334433</td>\n",
       "      <td>38.000000</td>\n",
       "      <td>0</td>\n",
       "      <td>0</td>\n",
       "      <td>0</td>\n",
       "      <td>0</td>\n",
       "      <td>0</td>\n",
       "      <td>0</td>\n",
       "      <td>0</td>\n",
       "      <td>0</td>\n",
       "      <td>0</td>\n",
       "      <td>0</td>\n",
       "    </tr>\n",
       "    <tr>\n",
       "      <th>1</th>\n",
       "      <td>0.176934</td>\n",
       "      <td>0.664788</td>\n",
       "      <td>0.685136</td>\n",
       "      <td>0.000046</td>\n",
       "      <td>0.162139</td>\n",
       "      <td>-9.877909</td>\n",
       "      <td>0.082392</td>\n",
       "      <td>132.495091</td>\n",
       "      <td>0.754409</td>\n",
       "      <td>33.681818</td>\n",
       "      <td>0</td>\n",
       "      <td>0</td>\n",
       "      <td>0</td>\n",
       "      <td>0</td>\n",
       "      <td>0</td>\n",
       "      <td>0</td>\n",
       "      <td>0</td>\n",
       "      <td>0</td>\n",
       "      <td>0</td>\n",
       "      <td>0</td>\n",
       "    </tr>\n",
       "    <tr>\n",
       "      <th>2</th>\n",
       "      <td>0.547000</td>\n",
       "      <td>0.750125</td>\n",
       "      <td>0.519750</td>\n",
       "      <td>0.043137</td>\n",
       "      <td>0.213975</td>\n",
       "      <td>-8.878500</td>\n",
       "      <td>0.276725</td>\n",
       "      <td>114.229125</td>\n",
       "      <td>0.319500</td>\n",
       "      <td>64.625000</td>\n",
       "      <td>0</td>\n",
       "      <td>0</td>\n",
       "      <td>1</td>\n",
       "      <td>0</td>\n",
       "      <td>0</td>\n",
       "      <td>0</td>\n",
       "      <td>0</td>\n",
       "      <td>0</td>\n",
       "      <td>0</td>\n",
       "      <td>0</td>\n",
       "    </tr>\n",
       "    <tr>\n",
       "      <th>3</th>\n",
       "      <td>0.128123</td>\n",
       "      <td>0.765246</td>\n",
       "      <td>0.641705</td>\n",
       "      <td>0.038454</td>\n",
       "      <td>0.201195</td>\n",
       "      <td>-6.626918</td>\n",
       "      <td>0.155917</td>\n",
       "      <td>119.804361</td>\n",
       "      <td>0.296096</td>\n",
       "      <td>61.647541</td>\n",
       "      <td>0</td>\n",
       "      <td>0</td>\n",
       "      <td>0</td>\n",
       "      <td>0</td>\n",
       "      <td>0</td>\n",
       "      <td>0</td>\n",
       "      <td>0</td>\n",
       "      <td>0</td>\n",
       "      <td>0</td>\n",
       "      <td>0</td>\n",
       "    </tr>\n",
       "    <tr>\n",
       "      <th>4</th>\n",
       "      <td>0.636588</td>\n",
       "      <td>0.541000</td>\n",
       "      <td>0.402282</td>\n",
       "      <td>0.000008</td>\n",
       "      <td>0.193824</td>\n",
       "      <td>-9.405882</td>\n",
       "      <td>0.150006</td>\n",
       "      <td>114.952529</td>\n",
       "      <td>0.407765</td>\n",
       "      <td>46.588235</td>\n",
       "      <td>0</td>\n",
       "      <td>0</td>\n",
       "      <td>0</td>\n",
       "      <td>0</td>\n",
       "      <td>0</td>\n",
       "      <td>0</td>\n",
       "      <td>0</td>\n",
       "      <td>0</td>\n",
       "      <td>0</td>\n",
       "      <td>0</td>\n",
       "    </tr>\n",
       "    <tr>\n",
       "      <th>...</th>\n",
       "      <td>...</td>\n",
       "      <td>...</td>\n",
       "      <td>...</td>\n",
       "      <td>...</td>\n",
       "      <td>...</td>\n",
       "      <td>...</td>\n",
       "      <td>...</td>\n",
       "      <td>...</td>\n",
       "      <td>...</td>\n",
       "      <td>...</td>\n",
       "      <td>...</td>\n",
       "      <td>...</td>\n",
       "      <td>...</td>\n",
       "      <td>...</td>\n",
       "      <td>...</td>\n",
       "      <td>...</td>\n",
       "      <td>...</td>\n",
       "      <td>...</td>\n",
       "      <td>...</td>\n",
       "      <td>...</td>\n",
       "    </tr>\n",
       "    <tr>\n",
       "      <th>18086</th>\n",
       "      <td>0.473500</td>\n",
       "      <td>0.553500</td>\n",
       "      <td>0.609000</td>\n",
       "      <td>0.000392</td>\n",
       "      <td>0.229000</td>\n",
       "      <td>-9.361000</td>\n",
       "      <td>0.035300</td>\n",
       "      <td>98.847500</td>\n",
       "      <td>0.535500</td>\n",
       "      <td>44.000000</td>\n",
       "      <td>0</td>\n",
       "      <td>0</td>\n",
       "      <td>0</td>\n",
       "      <td>0</td>\n",
       "      <td>0</td>\n",
       "      <td>0</td>\n",
       "      <td>0</td>\n",
       "      <td>0</td>\n",
       "      <td>0</td>\n",
       "      <td>0</td>\n",
       "    </tr>\n",
       "    <tr>\n",
       "      <th>18087</th>\n",
       "      <td>0.502000</td>\n",
       "      <td>0.609000</td>\n",
       "      <td>0.833000</td>\n",
       "      <td>0.000000</td>\n",
       "      <td>0.134000</td>\n",
       "      <td>-6.261000</td>\n",
       "      <td>0.215000</td>\n",
       "      <td>154.596000</td>\n",
       "      <td>0.718000</td>\n",
       "      <td>34.000000</td>\n",
       "      <td>0</td>\n",
       "      <td>0</td>\n",
       "      <td>0</td>\n",
       "      <td>0</td>\n",
       "      <td>0</td>\n",
       "      <td>0</td>\n",
       "      <td>0</td>\n",
       "      <td>0</td>\n",
       "      <td>0</td>\n",
       "      <td>0</td>\n",
       "    </tr>\n",
       "    <tr>\n",
       "      <th>18088</th>\n",
       "      <td>0.884000</td>\n",
       "      <td>0.358000</td>\n",
       "      <td>0.208000</td>\n",
       "      <td>0.000002</td>\n",
       "      <td>0.150000</td>\n",
       "      <td>-9.524000</td>\n",
       "      <td>0.033900</td>\n",
       "      <td>131.261000</td>\n",
       "      <td>0.278000</td>\n",
       "      <td>35.000000</td>\n",
       "      <td>0</td>\n",
       "      <td>0</td>\n",
       "      <td>0</td>\n",
       "      <td>0</td>\n",
       "      <td>0</td>\n",
       "      <td>0</td>\n",
       "      <td>0</td>\n",
       "      <td>0</td>\n",
       "      <td>0</td>\n",
       "      <td>0</td>\n",
       "    </tr>\n",
       "    <tr>\n",
       "      <th>18089</th>\n",
       "      <td>0.541000</td>\n",
       "      <td>0.578000</td>\n",
       "      <td>0.334000</td>\n",
       "      <td>0.000006</td>\n",
       "      <td>0.067500</td>\n",
       "      <td>-11.974000</td>\n",
       "      <td>0.026700</td>\n",
       "      <td>135.934000</td>\n",
       "      <td>0.243000</td>\n",
       "      <td>47.000000</td>\n",
       "      <td>0</td>\n",
       "      <td>0</td>\n",
       "      <td>0</td>\n",
       "      <td>0</td>\n",
       "      <td>0</td>\n",
       "      <td>0</td>\n",
       "      <td>0</td>\n",
       "      <td>0</td>\n",
       "      <td>0</td>\n",
       "      <td>0</td>\n",
       "    </tr>\n",
       "    <tr>\n",
       "      <th>18090</th>\n",
       "      <td>0.381000</td>\n",
       "      <td>0.353000</td>\n",
       "      <td>0.686000</td>\n",
       "      <td>0.000000</td>\n",
       "      <td>0.056800</td>\n",
       "      <td>-9.103000</td>\n",
       "      <td>0.039500</td>\n",
       "      <td>200.341000</td>\n",
       "      <td>0.352000</td>\n",
       "      <td>34.000000</td>\n",
       "      <td>0</td>\n",
       "      <td>0</td>\n",
       "      <td>0</td>\n",
       "      <td>0</td>\n",
       "      <td>0</td>\n",
       "      <td>0</td>\n",
       "      <td>0</td>\n",
       "      <td>0</td>\n",
       "      <td>0</td>\n",
       "      <td>0</td>\n",
       "    </tr>\n",
       "  </tbody>\n",
       "</table>\n",
       "<p>18091 rows × 20 columns</p>\n",
       "</div>"
      ],
      "text/plain": [
       "       acousticness  danceability    energy  instrumentalness  liveness  \\\n",
       "0          0.575083      0.442750  0.386336          0.022717  0.287708   \n",
       "1          0.176934      0.664788  0.685136          0.000046  0.162139   \n",
       "2          0.547000      0.750125  0.519750          0.043137  0.213975   \n",
       "3          0.128123      0.765246  0.641705          0.038454  0.201195   \n",
       "4          0.636588      0.541000  0.402282          0.000008  0.193824   \n",
       "...             ...           ...       ...               ...       ...   \n",
       "18086      0.473500      0.553500  0.609000          0.000392  0.229000   \n",
       "18087      0.502000      0.609000  0.833000          0.000000  0.134000   \n",
       "18088      0.884000      0.358000  0.208000          0.000002  0.150000   \n",
       "18089      0.541000      0.578000  0.334000          0.000006  0.067500   \n",
       "18090      0.381000      0.353000  0.686000          0.000000  0.056800   \n",
       "\n",
       "        loudness  speechiness       tempo   valence  popularity pop rock  \\\n",
       "0     -14.205417     0.180675  115.983500  0.334433   38.000000   0    0   \n",
       "1      -9.877909     0.082392  132.495091  0.754409   33.681818   0    0   \n",
       "2      -8.878500     0.276725  114.229125  0.319500   64.625000   0    0   \n",
       "3      -6.626918     0.155917  119.804361  0.296096   61.647541   0    0   \n",
       "4      -9.405882     0.150006  114.952529  0.407765   46.588235   0    0   \n",
       "...          ...          ...         ...       ...         ...  ..  ...   \n",
       "18086  -9.361000     0.035300   98.847500  0.535500   44.000000   0    0   \n",
       "18087  -6.261000     0.215000  154.596000  0.718000   34.000000   0    0   \n",
       "18088  -9.524000     0.033900  131.261000  0.278000   35.000000   0    0   \n",
       "18089 -11.974000     0.026700  135.934000  0.243000   47.000000   0    0   \n",
       "18090  -9.103000     0.039500  200.341000  0.352000   34.000000   0    0   \n",
       "\n",
       "      hiphop country blues reggae metal jazz disco classical  \n",
       "0          0       0     0      0     0    0     0         0  \n",
       "1          0       0     0      0     0    0     0         0  \n",
       "2          1       0     0      0     0    0     0         0  \n",
       "3          0       0     0      0     0    0     0         0  \n",
       "4          0       0     0      0     0    0     0         0  \n",
       "...      ...     ...   ...    ...   ...  ...   ...       ...  \n",
       "18086      0       0     0      0     0    0     0         0  \n",
       "18087      0       0     0      0     0    0     0         0  \n",
       "18088      0       0     0      0     0    0     0         0  \n",
       "18089      0       0     0      0     0    0     0         0  \n",
       "18090      0       0     0      0     0    0     0         0  \n",
       "\n",
       "[18091 rows x 20 columns]"
      ]
     },
     "execution_count": 227,
     "metadata": {},
     "output_type": "execute_result"
    }
   ],
   "source": [
    "full_df"
   ]
  },
  {
   "cell_type": "code",
   "execution_count": 229,
   "metadata": {},
   "outputs": [
    {
     "data": {
      "text/plain": [
       "0"
      ]
     },
     "execution_count": 229,
     "metadata": {},
     "output_type": "execute_result"
    }
   ],
   "source": [
    "full_df.loc[0]['pop']"
   ]
  },
  {
   "cell_type": "code",
   "execution_count": 241,
   "metadata": {},
   "outputs": [],
   "source": [
    "genrelist = ['pop', 'rock', 'hiphop', 'country', 'blues', 'reggae', 'metal', 'jazz',\n",
    "       'disco', 'classical']"
   ]
  },
  {
   "cell_type": "code",
   "execution_count": 242,
   "metadata": {},
   "outputs": [],
   "source": [
    "full_df['include'] = full_df[genrelist].sum(axis=1)"
   ]
  },
  {
   "cell_type": "code",
   "execution_count": 245,
   "metadata": {},
   "outputs": [],
   "source": [
    "df = full_df.loc[full_df['include'] != 0]"
   ]
  },
  {
   "cell_type": "code",
   "execution_count": 250,
   "metadata": {},
   "outputs": [],
   "source": [
    "df = df.drop('include', axis=1)\n",
    "df = df.reset_index()\n",
    "df = df.drop('index', axis=1)"
   ]
  },
  {
   "cell_type": "code",
   "execution_count": 251,
   "metadata": {},
   "outputs": [
    {
     "data": {
      "text/html": [
       "<div>\n",
       "<style scoped>\n",
       "    .dataframe tbody tr th:only-of-type {\n",
       "        vertical-align: middle;\n",
       "    }\n",
       "\n",
       "    .dataframe tbody tr th {\n",
       "        vertical-align: top;\n",
       "    }\n",
       "\n",
       "    .dataframe thead th {\n",
       "        text-align: right;\n",
       "    }\n",
       "</style>\n",
       "<table border=\"1\" class=\"dataframe\">\n",
       "  <thead>\n",
       "    <tr style=\"text-align: right;\">\n",
       "      <th></th>\n",
       "      <th>acousticness</th>\n",
       "      <th>danceability</th>\n",
       "      <th>energy</th>\n",
       "      <th>instrumentalness</th>\n",
       "      <th>liveness</th>\n",
       "      <th>loudness</th>\n",
       "      <th>speechiness</th>\n",
       "      <th>tempo</th>\n",
       "      <th>valence</th>\n",
       "      <th>popularity</th>\n",
       "      <th>pop</th>\n",
       "      <th>rock</th>\n",
       "      <th>hiphop</th>\n",
       "      <th>country</th>\n",
       "      <th>blues</th>\n",
       "      <th>reggae</th>\n",
       "      <th>metal</th>\n",
       "      <th>jazz</th>\n",
       "      <th>disco</th>\n",
       "      <th>classical</th>\n",
       "    </tr>\n",
       "  </thead>\n",
       "  <tbody>\n",
       "    <tr>\n",
       "      <th>0</th>\n",
       "      <td>0.547000</td>\n",
       "      <td>0.750125</td>\n",
       "      <td>0.519750</td>\n",
       "      <td>4.313714e-02</td>\n",
       "      <td>0.213975</td>\n",
       "      <td>-8.878500</td>\n",
       "      <td>0.276725</td>\n",
       "      <td>114.229125</td>\n",
       "      <td>0.319500</td>\n",
       "      <td>64.625000</td>\n",
       "      <td>0</td>\n",
       "      <td>0</td>\n",
       "      <td>1</td>\n",
       "      <td>0</td>\n",
       "      <td>0</td>\n",
       "      <td>0</td>\n",
       "      <td>0</td>\n",
       "      <td>0</td>\n",
       "      <td>0</td>\n",
       "      <td>0</td>\n",
       "    </tr>\n",
       "    <tr>\n",
       "      <th>1</th>\n",
       "      <td>0.105556</td>\n",
       "      <td>0.557125</td>\n",
       "      <td>0.612250</td>\n",
       "      <td>2.330025e-02</td>\n",
       "      <td>0.127587</td>\n",
       "      <td>-9.638125</td>\n",
       "      <td>0.032150</td>\n",
       "      <td>103.080250</td>\n",
       "      <td>0.532625</td>\n",
       "      <td>35.125000</td>\n",
       "      <td>1</td>\n",
       "      <td>0</td>\n",
       "      <td>0</td>\n",
       "      <td>0</td>\n",
       "      <td>0</td>\n",
       "      <td>0</td>\n",
       "      <td>0</td>\n",
       "      <td>0</td>\n",
       "      <td>0</td>\n",
       "      <td>0</td>\n",
       "    </tr>\n",
       "    <tr>\n",
       "      <th>2</th>\n",
       "      <td>0.156758</td>\n",
       "      <td>0.642051</td>\n",
       "      <td>0.719321</td>\n",
       "      <td>3.624652e-03</td>\n",
       "      <td>0.217423</td>\n",
       "      <td>-6.030692</td>\n",
       "      <td>0.067155</td>\n",
       "      <td>114.685218</td>\n",
       "      <td>0.615128</td>\n",
       "      <td>45.794872</td>\n",
       "      <td>1</td>\n",
       "      <td>0</td>\n",
       "      <td>0</td>\n",
       "      <td>0</td>\n",
       "      <td>0</td>\n",
       "      <td>0</td>\n",
       "      <td>0</td>\n",
       "      <td>0</td>\n",
       "      <td>0</td>\n",
       "      <td>0</td>\n",
       "    </tr>\n",
       "    <tr>\n",
       "      <th>3</th>\n",
       "      <td>0.108350</td>\n",
       "      <td>0.787500</td>\n",
       "      <td>0.772500</td>\n",
       "      <td>8.465000e-01</td>\n",
       "      <td>0.077350</td>\n",
       "      <td>-4.744000</td>\n",
       "      <td>0.072850</td>\n",
       "      <td>142.973000</td>\n",
       "      <td>0.834000</td>\n",
       "      <td>48.500000</td>\n",
       "      <td>0</td>\n",
       "      <td>0</td>\n",
       "      <td>0</td>\n",
       "      <td>0</td>\n",
       "      <td>0</td>\n",
       "      <td>1</td>\n",
       "      <td>0</td>\n",
       "      <td>0</td>\n",
       "      <td>0</td>\n",
       "      <td>0</td>\n",
       "    </tr>\n",
       "    <tr>\n",
       "      <th>4</th>\n",
       "      <td>0.158394</td>\n",
       "      <td>0.666073</td>\n",
       "      <td>0.520436</td>\n",
       "      <td>1.436720e-04</td>\n",
       "      <td>0.143213</td>\n",
       "      <td>-8.024036</td>\n",
       "      <td>0.097624</td>\n",
       "      <td>116.843764</td>\n",
       "      <td>0.532800</td>\n",
       "      <td>48.327273</td>\n",
       "      <td>0</td>\n",
       "      <td>0</td>\n",
       "      <td>1</td>\n",
       "      <td>0</td>\n",
       "      <td>0</td>\n",
       "      <td>0</td>\n",
       "      <td>0</td>\n",
       "      <td>0</td>\n",
       "      <td>0</td>\n",
       "      <td>0</td>\n",
       "    </tr>\n",
       "    <tr>\n",
       "      <th>...</th>\n",
       "      <td>...</td>\n",
       "      <td>...</td>\n",
       "      <td>...</td>\n",
       "      <td>...</td>\n",
       "      <td>...</td>\n",
       "      <td>...</td>\n",
       "      <td>...</td>\n",
       "      <td>...</td>\n",
       "      <td>...</td>\n",
       "      <td>...</td>\n",
       "      <td>...</td>\n",
       "      <td>...</td>\n",
       "      <td>...</td>\n",
       "      <td>...</td>\n",
       "      <td>...</td>\n",
       "      <td>...</td>\n",
       "      <td>...</td>\n",
       "      <td>...</td>\n",
       "      <td>...</td>\n",
       "      <td>...</td>\n",
       "    </tr>\n",
       "    <tr>\n",
       "      <th>2433</th>\n",
       "      <td>0.142175</td>\n",
       "      <td>0.676750</td>\n",
       "      <td>0.693500</td>\n",
       "      <td>4.026250e-05</td>\n",
       "      <td>0.172775</td>\n",
       "      <td>-6.133250</td>\n",
       "      <td>0.116650</td>\n",
       "      <td>99.002250</td>\n",
       "      <td>0.549750</td>\n",
       "      <td>63.750000</td>\n",
       "      <td>0</td>\n",
       "      <td>1</td>\n",
       "      <td>0</td>\n",
       "      <td>0</td>\n",
       "      <td>0</td>\n",
       "      <td>0</td>\n",
       "      <td>0</td>\n",
       "      <td>0</td>\n",
       "      <td>0</td>\n",
       "      <td>0</td>\n",
       "    </tr>\n",
       "    <tr>\n",
       "      <th>2434</th>\n",
       "      <td>0.323483</td>\n",
       "      <td>0.700833</td>\n",
       "      <td>0.398333</td>\n",
       "      <td>1.515113e-02</td>\n",
       "      <td>0.211000</td>\n",
       "      <td>-10.719000</td>\n",
       "      <td>0.120967</td>\n",
       "      <td>130.668833</td>\n",
       "      <td>0.257000</td>\n",
       "      <td>67.666667</td>\n",
       "      <td>1</td>\n",
       "      <td>0</td>\n",
       "      <td>0</td>\n",
       "      <td>0</td>\n",
       "      <td>0</td>\n",
       "      <td>0</td>\n",
       "      <td>0</td>\n",
       "      <td>0</td>\n",
       "      <td>0</td>\n",
       "      <td>0</td>\n",
       "    </tr>\n",
       "    <tr>\n",
       "      <th>2435</th>\n",
       "      <td>0.635538</td>\n",
       "      <td>0.636462</td>\n",
       "      <td>0.373385</td>\n",
       "      <td>2.723077e-02</td>\n",
       "      <td>0.190862</td>\n",
       "      <td>-12.483769</td>\n",
       "      <td>0.096200</td>\n",
       "      <td>123.062385</td>\n",
       "      <td>0.545923</td>\n",
       "      <td>66.769231</td>\n",
       "      <td>1</td>\n",
       "      <td>0</td>\n",
       "      <td>0</td>\n",
       "      <td>0</td>\n",
       "      <td>0</td>\n",
       "      <td>0</td>\n",
       "      <td>0</td>\n",
       "      <td>0</td>\n",
       "      <td>0</td>\n",
       "      <td>0</td>\n",
       "    </tr>\n",
       "    <tr>\n",
       "      <th>2436</th>\n",
       "      <td>0.077663</td>\n",
       "      <td>0.676250</td>\n",
       "      <td>0.728000</td>\n",
       "      <td>1.065000e-06</td>\n",
       "      <td>0.122725</td>\n",
       "      <td>-5.763750</td>\n",
       "      <td>0.039625</td>\n",
       "      <td>108.268000</td>\n",
       "      <td>0.711000</td>\n",
       "      <td>62.500000</td>\n",
       "      <td>0</td>\n",
       "      <td>1</td>\n",
       "      <td>0</td>\n",
       "      <td>0</td>\n",
       "      <td>0</td>\n",
       "      <td>0</td>\n",
       "      <td>0</td>\n",
       "      <td>0</td>\n",
       "      <td>0</td>\n",
       "      <td>0</td>\n",
       "    </tr>\n",
       "    <tr>\n",
       "      <th>2437</th>\n",
       "      <td>0.813750</td>\n",
       "      <td>0.540500</td>\n",
       "      <td>0.352250</td>\n",
       "      <td>3.350000e-07</td>\n",
       "      <td>0.115375</td>\n",
       "      <td>-13.076000</td>\n",
       "      <td>0.242150</td>\n",
       "      <td>98.150750</td>\n",
       "      <td>0.487500</td>\n",
       "      <td>72.750000</td>\n",
       "      <td>1</td>\n",
       "      <td>0</td>\n",
       "      <td>0</td>\n",
       "      <td>0</td>\n",
       "      <td>0</td>\n",
       "      <td>0</td>\n",
       "      <td>0</td>\n",
       "      <td>0</td>\n",
       "      <td>0</td>\n",
       "      <td>0</td>\n",
       "    </tr>\n",
       "  </tbody>\n",
       "</table>\n",
       "<p>2438 rows × 20 columns</p>\n",
       "</div>"
      ],
      "text/plain": [
       "      acousticness  danceability    energy  instrumentalness  liveness  \\\n",
       "0         0.547000      0.750125  0.519750      4.313714e-02  0.213975   \n",
       "1         0.105556      0.557125  0.612250      2.330025e-02  0.127587   \n",
       "2         0.156758      0.642051  0.719321      3.624652e-03  0.217423   \n",
       "3         0.108350      0.787500  0.772500      8.465000e-01  0.077350   \n",
       "4         0.158394      0.666073  0.520436      1.436720e-04  0.143213   \n",
       "...            ...           ...       ...               ...       ...   \n",
       "2433      0.142175      0.676750  0.693500      4.026250e-05  0.172775   \n",
       "2434      0.323483      0.700833  0.398333      1.515113e-02  0.211000   \n",
       "2435      0.635538      0.636462  0.373385      2.723077e-02  0.190862   \n",
       "2436      0.077663      0.676250  0.728000      1.065000e-06  0.122725   \n",
       "2437      0.813750      0.540500  0.352250      3.350000e-07  0.115375   \n",
       "\n",
       "       loudness  speechiness       tempo   valence  popularity pop rock  \\\n",
       "0     -8.878500     0.276725  114.229125  0.319500   64.625000   0    0   \n",
       "1     -9.638125     0.032150  103.080250  0.532625   35.125000   1    0   \n",
       "2     -6.030692     0.067155  114.685218  0.615128   45.794872   1    0   \n",
       "3     -4.744000     0.072850  142.973000  0.834000   48.500000   0    0   \n",
       "4     -8.024036     0.097624  116.843764  0.532800   48.327273   0    0   \n",
       "...         ...          ...         ...       ...         ...  ..  ...   \n",
       "2433  -6.133250     0.116650   99.002250  0.549750   63.750000   0    1   \n",
       "2434 -10.719000     0.120967  130.668833  0.257000   67.666667   1    0   \n",
       "2435 -12.483769     0.096200  123.062385  0.545923   66.769231   1    0   \n",
       "2436  -5.763750     0.039625  108.268000  0.711000   62.500000   0    1   \n",
       "2437 -13.076000     0.242150   98.150750  0.487500   72.750000   1    0   \n",
       "\n",
       "     hiphop country blues reggae metal jazz disco classical  \n",
       "0         1       0     0      0     0    0     0         0  \n",
       "1         0       0     0      0     0    0     0         0  \n",
       "2         0       0     0      0     0    0     0         0  \n",
       "3         0       0     0      1     0    0     0         0  \n",
       "4         1       0     0      0     0    0     0         0  \n",
       "...     ...     ...   ...    ...   ...  ...   ...       ...  \n",
       "2433      0       0     0      0     0    0     0         0  \n",
       "2434      0       0     0      0     0    0     0         0  \n",
       "2435      0       0     0      0     0    0     0         0  \n",
       "2436      0       0     0      0     0    0     0         0  \n",
       "2437      0       0     0      0     0    0     0         0  \n",
       "\n",
       "[2438 rows x 20 columns]"
      ]
     },
     "execution_count": 251,
     "metadata": {},
     "output_type": "execute_result"
    }
   ],
   "source": [
    "df"
   ]
  },
  {
   "cell_type": "markdown",
   "metadata": {},
   "source": [
    "# EDA"
   ]
  },
  {
   "cell_type": "markdown",
   "metadata": {},
   "source": [
    "- acousticness - bimodal, mode of 0, no outliers\n",
    "- danceability - mostly normal, slight left-hand skew\n",
    "- energy - slightly bimodal, no outliers\n",
    "- instrumentalness - mode 0, severe right-hand skew, most outliers of the predictor variables \n",
    "- liveness - strong right-hand skew\n",
    "- loudness - moderate left-hand skew\n",
    "- speechiness - strong right-hand skew\n",
    "- tempo - moderate right-hand skew, with two-tailed outliers\n",
    "- valence - normal, no outliers\n",
    "- popularity - slight bi-modality, with fat left-hand tail and a few left-hand outliers"
   ]
  },
  {
   "cell_type": "markdown",
   "metadata": {},
   "source": [
    "conclusions\n",
    "- log transform livenes, speechiness, tempo, and instrumentalness (if not drop this predictor)\n",
    "- no change to valence, energy, danceability, acousticness\n",
    "- tbd popularity, loudness"
   ]
  },
  {
   "cell_type": "code",
   "execution_count": 254,
   "metadata": {
    "scrolled": true
   },
   "outputs": [
    {
     "data": {
      "text/plain": [
       "<matplotlib.axes._subplots.AxesSubplot at 0x11c97d8d0>"
      ]
     },
     "execution_count": 254,
     "metadata": {},
     "output_type": "execute_result"
    },
    {
     "data": {
      "image/png": "[encoded data removed]",
      "text/plain": [
       "<Figure size 432x288 with 1 Axes>"
      ]
     },
     "metadata": {
      "needs_background": "light"
     },
     "output_type": "display_data"
    }
   ],
   "source": [
    "sns.distplot(df['acousticness'])"
   ]
  },
  {
   "cell_type": "code",
   "execution_count": 264,
   "metadata": {},
   "outputs": [
    {
     "data": {
      "text/plain": [
       "<matplotlib.axes._subplots.AxesSubplot at 0x11c578940>"
      ]
     },
     "execution_count": 264,
     "metadata": {},
     "output_type": "execute_result"
    },
    {
     "data": {
      "image/png": "[encoded data removed]",
      "text/plain": [
       "<Figure size 432x288 with 1 Axes>"
      ]
     },
     "metadata": {
      "needs_background": "light"
     },
     "output_type": "display_data"
    }
   ],
   "source": [
    "sns.boxplot(df['acousticness'])"
   ]
  },
  {
   "cell_type": "code",
   "execution_count": 255,
   "metadata": {
    "scrolled": true
   },
   "outputs": [
    {
     "data": {
      "text/plain": [
       "<matplotlib.axes._subplots.AxesSubplot at 0x11c99c080>"
      ]
     },
     "execution_count": 255,
     "metadata": {},
     "output_type": "execute_result"
    },
    {
     "data": {
      "image/png": "[encoded data removed]",
      "text/plain": [
       "<Figure size 432x288 with 1 Axes>"
      ]
     },
     "metadata": {
      "needs_background": "light"
     },
     "output_type": "display_data"
    }
   ],
   "source": [
    "sns.distplot(df['danceability'])"
   ]
  },
  {
   "cell_type": "code",
   "execution_count": 265,
   "metadata": {},
   "outputs": [
    {
     "data": {
      "text/plain": [
       "<matplotlib.axes._subplots.AxesSubplot at 0x11d709668>"
      ]
     },
     "execution_count": 265,
     "metadata": {},
     "output_type": "execute_result"
    },
    {
     "data": {
      "image/png": "[encoded data removed]",
      "text/plain": [
       "<Figure size 432x288 with 1 Axes>"
      ]
     },
     "metadata": {
      "needs_background": "light"
     },
     "output_type": "display_data"
    }
   ],
   "source": [
    "sns.boxplot(df['danceability'])"
   ]
  },
  {
   "cell_type": "code",
   "execution_count": 256,
   "metadata": {
    "scrolled": true
   },
   "outputs": [
    {
     "data": {
      "text/plain": [
       "<matplotlib.axes._subplots.AxesSubplot at 0x11ce3e6a0>"
      ]
     },
     "execution_count": 256,
     "metadata": {},
     "output_type": "execute_result"
    },
    {
     "data": {
      "image/png": "[encoded data removed]",
      "text/plain": [
       "<Figure size 432x288 with 1 Axes>"
      ]
     },
     "metadata": {
      "needs_background": "light"
     },
     "output_type": "display_data"
    }
   ],
   "source": [
    "sns.distplot(df['energy'])"
   ]
  },
  {
   "cell_type": "code",
   "execution_count": 266,
   "metadata": {},
   "outputs": [
    {
     "data": {
      "text/plain": [
       "<matplotlib.axes._subplots.AxesSubplot at 0x11c5c66d8>"
      ]
     },
     "execution_count": 266,
     "metadata": {},
     "output_type": "execute_result"
    },
    {
     "data": {
      "image/png": "[encoded data removed]",
      "text/plain": [
       "<Figure size 432x288 with 1 Axes>"
      ]
     },
     "metadata": {
      "needs_background": "light"
     },
     "output_type": "display_data"
    }
   ],
   "source": [
    "sns.boxplot(df['energy'])"
   ]
  },
  {
   "cell_type": "code",
   "execution_count": 257,
   "metadata": {
    "scrolled": true
   },
   "outputs": [
    {
     "data": {
      "text/plain": [
       "<matplotlib.axes._subplots.AxesSubplot at 0x11c5ec710>"
      ]
     },
     "execution_count": 257,
     "metadata": {},
     "output_type": "execute_result"
    },
    {
     "data": {
      "image/png": "[encoded data removed]",
      "text/plain": [
       "<Figure size 432x288 with 1 Axes>"
      ]
     },
     "metadata": {
      "needs_background": "light"
     },
     "output_type": "display_data"
    }
   ],
   "source": [
    "sns.distplot(df['instrumentalness'])"
   ]
  },
  {
   "cell_type": "code",
   "execution_count": 267,
   "metadata": {},
   "outputs": [
    {
     "data": {
      "text/plain": [
       "<matplotlib.axes._subplots.AxesSubplot at 0x11d6f0588>"
      ]
     },
     "execution_count": 267,
     "metadata": {},
     "output_type": "execute_result"
    },
    {
     "data": {
      "image/png": "[encoded data removed]",
      "text/plain": [
       "<Figure size 432x288 with 1 Axes>"
      ]
     },
     "metadata": {
      "needs_background": "light"
     },
     "output_type": "display_data"
    }
   ],
   "source": [
    "sns.boxplot(df['instrumentalness'])"
   ]
  },
  {
   "cell_type": "code",
   "execution_count": 258,
   "metadata": {},
   "outputs": [
    {
     "data": {
      "text/plain": [
       "<matplotlib.axes._subplots.AxesSubplot at 0x11d1838d0>"
      ]
     },
     "execution_count": 258,
     "metadata": {},
     "output_type": "execute_result"
    },
    {
     "data": {
      "image/png": "[encoded data removed]",
      "text/plain": [
       "<Figure size 432x288 with 1 Axes>"
      ]
     },
     "metadata": {
      "needs_background": "light"
     },
     "output_type": "display_data"
    }
   ],
   "source": [
    "sns.distplot(df['liveness'])"
   ]
  },
  {
   "cell_type": "code",
   "execution_count": 268,
   "metadata": {},
   "outputs": [
    {
     "data": {
      "text/plain": [
       "<matplotlib.axes._subplots.AxesSubplot at 0x11d317780>"
      ]
     },
     "execution_count": 268,
     "metadata": {},
     "output_type": "execute_result"
    },
    {
     "data": {
      "image/png": "[encoded data removed]",
      "text/plain": [
       "<Figure size 432x288 with 1 Axes>"
      ]
     },
     "metadata": {
      "needs_background": "light"
     },
     "output_type": "display_data"
    }
   ],
   "source": [
    "sns.boxplot(df['liveness'])"
   ]
  },
  {
   "cell_type": "code",
   "execution_count": 259,
   "metadata": {},
   "outputs": [
    {
     "data": {
      "text/plain": [
       "<matplotlib.axes._subplots.AxesSubplot at 0x11ce9d828>"
      ]
     },
     "execution_count": 259,
     "metadata": {},
     "output_type": "execute_result"
    },
    {
     "data": {
      "image/png": "[encoded data removed]",
      "text/plain": [
       "<Figure size 432x288 with 1 Axes>"
      ]
     },
     "metadata": {
      "needs_background": "light"
     },
     "output_type": "display_data"
    }
   ],
   "source": [
    "sns.distplot(df['loudness'])"
   ]
  },
  {
   "cell_type": "code",
   "execution_count": 269,
   "metadata": {},
   "outputs": [
    {
     "data": {
      "text/plain": [
       "<matplotlib.axes._subplots.AxesSubplot at 0x11d3321d0>"
      ]
     },
     "execution_count": 269,
     "metadata": {},
     "output_type": "execute_result"
    },
    {
     "data": {
      "image/png": "[encoded data removed]",
      "text/plain": [
       "<Figure size 432x288 with 1 Axes>"
      ]
     },
     "metadata": {
      "needs_background": "light"
     },
     "output_type": "display_data"
    }
   ],
   "source": [
    "sns.boxplot(df['loudness'])"
   ]
  },
  {
   "cell_type": "code",
   "execution_count": 260,
   "metadata": {},
   "outputs": [
    {
     "data": {
      "text/plain": [
       "<matplotlib.axes._subplots.AxesSubplot at 0x11cebfcf8>"
      ]
     },
     "execution_count": 260,
     "metadata": {},
     "output_type": "execute_result"
    },
    {
     "data": {
      "image/png": "[encoded data removed]",
      "text/plain": [
       "<Figure size 432x288 with 1 Axes>"
      ]
     },
     "metadata": {
      "needs_background": "light"
     },
     "output_type": "display_data"
    }
   ],
   "source": [
    "sns.distplot(df['speechiness'])"
   ]
  },
  {
   "cell_type": "code",
   "execution_count": 270,
   "metadata": {},
   "outputs": [
    {
     "data": {
      "text/plain": [
       "<matplotlib.axes._subplots.AxesSubplot at 0x11d33d588>"
      ]
     },
     "execution_count": 270,
     "metadata": {},
     "output_type": "execute_result"
    },
    {
     "data": {
      "image/png": "[encoded data removed]",
      "text/plain": [
       "<Figure size 432x288 with 1 Axes>"
      ]
     },
     "metadata": {
      "needs_background": "light"
     },
     "output_type": "display_data"
    }
   ],
   "source": [
    "sns.boxplot(df['speechiness'])"
   ]
  },
  {
   "cell_type": "code",
   "execution_count": 261,
   "metadata": {
    "scrolled": true
   },
   "outputs": [
    {
     "data": {
      "text/plain": [
       "<matplotlib.axes._subplots.AxesSubplot at 0x11ce77470>"
      ]
     },
     "execution_count": 261,
     "metadata": {},
     "output_type": "execute_result"
    },
    {
     "data": {
      "image/png": "[encoded data removed]",
      "text/plain": [
       "<Figure size 432x288 with 1 Axes>"
      ]
     },
     "metadata": {
      "needs_background": "light"
     },
     "output_type": "display_data"
    }
   ],
   "source": [
    "sns.distplot(df['tempo'])"
   ]
  },
  {
   "cell_type": "code",
   "execution_count": 271,
   "metadata": {},
   "outputs": [
    {
     "data": {
      "text/plain": [
       "<matplotlib.axes._subplots.AxesSubplot at 0x11d35bc50>"
      ]
     },
     "execution_count": 271,
     "metadata": {},
     "output_type": "execute_result"
    },
    {
     "data": {
      "image/png": "[encoded data removed]",
      "text/plain": [
       "<Figure size 432x288 with 1 Axes>"
      ]
     },
     "metadata": {
      "needs_background": "light"
     },
     "output_type": "display_data"
    }
   ],
   "source": [
    "sns.boxplot(df['tempo'])"
   ]
  },
  {
   "cell_type": "code",
   "execution_count": 262,
   "metadata": {},
   "outputs": [
    {
     "data": {
      "text/plain": [
       "<matplotlib.axes._subplots.AxesSubplot at 0x11d3fda58>"
      ]
     },
     "execution_count": 262,
     "metadata": {},
     "output_type": "execute_result"
    },
    {
     "data": {
      "image/png": "[encoded data removed]",
      "text/plain": [
       "<Figure size 432x288 with 1 Axes>"
      ]
     },
     "metadata": {
      "needs_background": "light"
     },
     "output_type": "display_data"
    }
   ],
   "source": [
    "sns.distplot(df['valence'])"
   ]
  },
  {
   "cell_type": "code",
   "execution_count": 272,
   "metadata": {},
   "outputs": [
    {
     "data": {
      "text/plain": [
       "<matplotlib.axes._subplots.AxesSubplot at 0x11d379080>"
      ]
     },
     "execution_count": 272,
     "metadata": {},
     "output_type": "execute_result"
    },
    {
     "data": {
      "image/png": "[encoded data removed]",
      "text/plain": [
       "<Figure size 432x288 with 1 Axes>"
      ]
     },
     "metadata": {
      "needs_background": "light"
     },
     "output_type": "display_data"
    }
   ],
   "source": [
    "sns.boxplot(df['valence'])"
   ]
  },
  {
   "cell_type": "code",
   "execution_count": 263,
   "metadata": {},
   "outputs": [
    {
     "data": {
      "text/plain": [
       "<matplotlib.axes._subplots.AxesSubplot at 0x11d139208>"
      ]
     },
     "execution_count": 263,
     "metadata": {},
     "output_type": "execute_result"
    },
    {
     "data": {
      "image/png": "[encoded data removed]",
      "text/plain": [
       "<Figure size 432x288 with 1 Axes>"
      ]
     },
     "metadata": {
      "needs_background": "light"
     },
     "output_type": "display_data"
    }
   ],
   "source": [
    "sns.distplot(df['popularity'])"
   ]
  },
  {
   "cell_type": "code",
   "execution_count": 273,
   "metadata": {
    "scrolled": true
   },
   "outputs": [
    {
     "data": {
      "text/plain": [
       "<matplotlib.axes._subplots.AxesSubplot at 0x11d392278>"
      ]
     },
     "execution_count": 273,
     "metadata": {},
     "output_type": "execute_result"
    },
    {
     "data": {
      "image/png": "[encoded data removed]",
      "text/plain": [
       "<Figure size 432x288 with 1 Axes>"
      ]
     },
     "metadata": {
      "needs_background": "light"
     },
     "output_type": "display_data"
    }
   ],
   "source": [
    "sns.boxplot(df['popularity'])"
   ]
  },
  {
   "cell_type": "markdown",
   "metadata": {},
   "source": [
    "# Preprocessing"
   ]
  },
  {
   "cell_type": "markdown",
   "metadata": {},
   "source": [
    "## Train-test split"
   ]
  },
  {
   "cell_type": "code",
   "execution_count": 280,
   "metadata": {},
   "outputs": [],
   "source": [
    "X = df.iloc[:,0:10]\n",
    "y = df.iloc[:,10:]"
   ]
  },
  {
   "cell_type": "code",
   "execution_count": 288,
   "metadata": {},
   "outputs": [
    {
     "data": {
      "text/plain": [
       "pop          229.0\n",
       "rock         241.0\n",
       "hiphop       437.0\n",
       "country      246.0\n",
       "blues         81.0\n",
       "reggae        96.0\n",
       "metal         91.0\n",
       "jazz         212.0\n",
       "disco         92.0\n",
       "classical    225.0\n",
       "dtype: float64"
      ]
     },
     "execution_count": 288,
     "metadata": {},
     "output_type": "execute_result"
    }
   ],
   "source": [
    "X_train, X_test, y_train, y_test = train_test_split(X, y, test_size=.2, random_state = 1, stratify = y)\n",
    "y_train.sum()"
   ]
  },
  {
   "cell_type": "code",
   "execution_count": 289,
   "metadata": {},
   "outputs": [
    {
     "data": {
      "text/plain": [
       "pop           58.0\n",
       "rock          60.0\n",
       "hiphop       109.0\n",
       "country       62.0\n",
       "blues         20.0\n",
       "reggae        24.0\n",
       "metal         23.0\n",
       "jazz          53.0\n",
       "disco         23.0\n",
       "classical     56.0\n",
       "dtype: float64"
      ]
     },
     "execution_count": 289,
     "metadata": {},
     "output_type": "execute_result"
    }
   ],
   "source": [
    "y_test.sum()"
   ]
  },
  {
   "cell_type": "markdown",
   "metadata": {},
   "source": [
    "## Preprocessing"
   ]
  },
  {
   "cell_type": "code",
   "execution_count": 287,
   "metadata": {},
   "outputs": [
    {
     "data": {
      "text/html": [
       "<div>\n",
       "<style scoped>\n",
       "    .dataframe tbody tr th:only-of-type {\n",
       "        vertical-align: middle;\n",
       "    }\n",
       "\n",
       "    .dataframe tbody tr th {\n",
       "        vertical-align: top;\n",
       "    }\n",
       "\n",
       "    .dataframe thead th {\n",
       "        text-align: right;\n",
       "    }\n",
       "</style>\n",
       "<table border=\"1\" class=\"dataframe\">\n",
       "  <thead>\n",
       "    <tr style=\"text-align: right;\">\n",
       "      <th></th>\n",
       "      <th>acousticness</th>\n",
       "      <th>danceability</th>\n",
       "      <th>energy</th>\n",
       "      <th>instrumentalness</th>\n",
       "      <th>liveness</th>\n",
       "      <th>loudness</th>\n",
       "      <th>speechiness</th>\n",
       "      <th>tempo</th>\n",
       "      <th>valence</th>\n",
       "      <th>popularity</th>\n",
       "    </tr>\n",
       "  </thead>\n",
       "  <tbody>\n",
       "    <tr>\n",
       "      <th>0</th>\n",
       "      <td>-1.136298</td>\n",
       "      <td>-1.096959</td>\n",
       "      <td>1.428394</td>\n",
       "      <td>1.724497</td>\n",
       "      <td>-0.066421</td>\n",
       "      <td>1.090089</td>\n",
       "      <td>-0.497321</td>\n",
       "      <td>0.098117</td>\n",
       "      <td>-0.487129</td>\n",
       "      <td>0.629017</td>\n",
       "    </tr>\n",
       "    <tr>\n",
       "      <th>1</th>\n",
       "      <td>1.739142</td>\n",
       "      <td>-1.972789</td>\n",
       "      <td>-1.923604</td>\n",
       "      <td>3.077581</td>\n",
       "      <td>-0.785886</td>\n",
       "      <td>-2.843460</td>\n",
       "      <td>-0.554590</td>\n",
       "      <td>-1.145981</td>\n",
       "      <td>-1.470909</td>\n",
       "      <td>0.807075</td>\n",
       "    </tr>\n",
       "    <tr>\n",
       "      <th>2</th>\n",
       "      <td>1.198771</td>\n",
       "      <td>-1.469874</td>\n",
       "      <td>-0.931232</td>\n",
       "      <td>-0.465180</td>\n",
       "      <td>0.201977</td>\n",
       "      <td>-0.507080</td>\n",
       "      <td>-0.693610</td>\n",
       "      <td>-0.484279</td>\n",
       "      <td>-0.609745</td>\n",
       "      <td>-0.798902</td>\n",
       "    </tr>\n",
       "    <tr>\n",
       "      <th>3</th>\n",
       "      <td>-1.109182</td>\n",
       "      <td>1.371992</td>\n",
       "      <td>0.051087</td>\n",
       "      <td>-0.404977</td>\n",
       "      <td>-0.233186</td>\n",
       "      <td>0.266439</td>\n",
       "      <td>2.368402</td>\n",
       "      <td>1.594059</td>\n",
       "      <td>1.274516</td>\n",
       "      <td>-0.068659</td>\n",
       "    </tr>\n",
       "    <tr>\n",
       "      <th>4</th>\n",
       "      <td>0.628073</td>\n",
       "      <td>-0.088864</td>\n",
       "      <td>0.153775</td>\n",
       "      <td>-0.530035</td>\n",
       "      <td>-0.249799</td>\n",
       "      <td>0.445739</td>\n",
       "      <td>-0.322122</td>\n",
       "      <td>-0.387104</td>\n",
       "      <td>0.166637</td>\n",
       "      <td>-0.095976</td>\n",
       "    </tr>\n",
       "  </tbody>\n",
       "</table>\n",
       "</div>"
      ],
      "text/plain": [
       "   acousticness  danceability    energy  instrumentalness  liveness  loudness  \\\n",
       "0     -1.136298     -1.096959  1.428394          1.724497 -0.066421  1.090089   \n",
       "1      1.739142     -1.972789 -1.923604          3.077581 -0.785886 -2.843460   \n",
       "2      1.198771     -1.469874 -0.931232         -0.465180  0.201977 -0.507080   \n",
       "3     -1.109182      1.371992  0.051087         -0.404977 -0.233186  0.266439   \n",
       "4      0.628073     -0.088864  0.153775         -0.530035 -0.249799  0.445739   \n",
       "\n",
       "   speechiness     tempo   valence  popularity  \n",
       "0    -0.497321  0.098117 -0.487129    0.629017  \n",
       "1    -0.554590 -1.145981 -1.470909    0.807075  \n",
       "2    -0.693610 -0.484279 -0.609745   -0.798902  \n",
       "3     2.368402  1.594059  1.274516   -0.068659  \n",
       "4    -0.322122 -0.387104  0.166637   -0.095976  "
      ]
     },
     "execution_count": 287,
     "metadata": {},
     "output_type": "execute_result"
    }
   ],
   "source": [
    "scaler = StandardScaler()\n",
    "\n",
    "scaled_data_train = scaler.fit_transform(X_train)\n",
    "scaled_data_test = scaler.transform(X_test)\n",
    "\n",
    "scaled_df_train = pd.DataFrame(scaled_data_train, columns=X_train.columns)\n",
    "scaled_df_test = pd.DataFrame(scaled_data_test, columns=X_test.columns)\n",
    "scaled_df_train.head()"
   ]
  },
  {
   "cell_type": "markdown",
   "metadata": {},
   "source": [
    "## Initial model"
   ]
  },
  {
   "cell_type": "code",
   "execution_count": 294,
   "metadata": {},
   "outputs": [],
   "source": [
    "clf = DecisionTreeClassifier(random_state = 29)"
   ]
  },
  {
   "cell_type": "code",
   "execution_count": 295,
   "metadata": {},
   "outputs": [
    {
     "ename": "ValueError",
     "evalue": "Unknown label type: 'unknown'",
     "output_type": "error",
     "traceback": [
      "\u001b[0;31m---------------------------------------------------------------------------\u001b[0m",
      "\u001b[0;31mValueError\u001b[0m                                Traceback (most recent call last)",
      "\u001b[0;32m<ipython-input-295-4f66baab8f93>\u001b[0m in \u001b[0;36m<module>\u001b[0;34m\u001b[0m\n\u001b[0;32m----> 1\u001b[0;31m \u001b[0mclf\u001b[0m\u001b[0;34m.\u001b[0m\u001b[0mfit\u001b[0m\u001b[0;34m(\u001b[0m\u001b[0mX_train\u001b[0m\u001b[0;34m,\u001b[0m \u001b[0my_train\u001b[0m\u001b[0;34m)\u001b[0m\u001b[0;34m\u001b[0m\u001b[0;34m\u001b[0m\u001b[0m\n\u001b[0m",
      "\u001b[0;32m~/opt/anaconda3/envs/learn-env/lib/python3.6/site-packages/sklearn/tree/tree.py\u001b[0m in \u001b[0;36mfit\u001b[0;34m(self, X, y, sample_weight, check_input, X_idx_sorted)\u001b[0m\n\u001b[1;32m    814\u001b[0m             \u001b[0msample_weight\u001b[0m\u001b[0;34m=\u001b[0m\u001b[0msample_weight\u001b[0m\u001b[0;34m,\u001b[0m\u001b[0;34m\u001b[0m\u001b[0;34m\u001b[0m\u001b[0m\n\u001b[1;32m    815\u001b[0m             \u001b[0mcheck_input\u001b[0m\u001b[0;34m=\u001b[0m\u001b[0mcheck_input\u001b[0m\u001b[0;34m,\u001b[0m\u001b[0;34m\u001b[0m\u001b[0;34m\u001b[0m\u001b[0m\n\u001b[0;32m--> 816\u001b[0;31m             X_idx_sorted=X_idx_sorted)\n\u001b[0m\u001b[1;32m    817\u001b[0m         \u001b[0;32mreturn\u001b[0m \u001b[0mself\u001b[0m\u001b[0;34m\u001b[0m\u001b[0;34m\u001b[0m\u001b[0m\n\u001b[1;32m    818\u001b[0m \u001b[0;34m\u001b[0m\u001b[0m\n",
      "\u001b[0;32m~/opt/anaconda3/envs/learn-env/lib/python3.6/site-packages/sklearn/tree/tree.py\u001b[0m in \u001b[0;36mfit\u001b[0;34m(self, X, y, sample_weight, check_input, X_idx_sorted)\u001b[0m\n\u001b[1;32m    152\u001b[0m \u001b[0;34m\u001b[0m\u001b[0m\n\u001b[1;32m    153\u001b[0m         \u001b[0;32mif\u001b[0m \u001b[0mis_classification\u001b[0m\u001b[0;34m:\u001b[0m\u001b[0;34m\u001b[0m\u001b[0;34m\u001b[0m\u001b[0m\n\u001b[0;32m--> 154\u001b[0;31m             \u001b[0mcheck_classification_targets\u001b[0m\u001b[0;34m(\u001b[0m\u001b[0my\u001b[0m\u001b[0;34m)\u001b[0m\u001b[0;34m\u001b[0m\u001b[0;34m\u001b[0m\u001b[0m\n\u001b[0m\u001b[1;32m    155\u001b[0m             \u001b[0my\u001b[0m \u001b[0;34m=\u001b[0m \u001b[0mnp\u001b[0m\u001b[0;34m.\u001b[0m\u001b[0mcopy\u001b[0m\u001b[0;34m(\u001b[0m\u001b[0my\u001b[0m\u001b[0;34m)\u001b[0m\u001b[0;34m\u001b[0m\u001b[0;34m\u001b[0m\u001b[0m\n\u001b[1;32m    156\u001b[0m \u001b[0;34m\u001b[0m\u001b[0m\n",
      "\u001b[0;32m~/opt/anaconda3/envs/learn-env/lib/python3.6/site-packages/sklearn/utils/multiclass.py\u001b[0m in \u001b[0;36mcheck_classification_targets\u001b[0;34m(y)\u001b[0m\n\u001b[1;32m    167\u001b[0m     if y_type not in ['binary', 'multiclass', 'multiclass-multioutput',\n\u001b[1;32m    168\u001b[0m                       'multilabel-indicator', 'multilabel-sequences']:\n\u001b[0;32m--> 169\u001b[0;31m         \u001b[0;32mraise\u001b[0m \u001b[0mValueError\u001b[0m\u001b[0;34m(\u001b[0m\u001b[0;34m\"Unknown label type: %r\"\u001b[0m \u001b[0;34m%\u001b[0m \u001b[0my_type\u001b[0m\u001b[0;34m)\u001b[0m\u001b[0;34m\u001b[0m\u001b[0;34m\u001b[0m\u001b[0m\n\u001b[0m\u001b[1;32m    170\u001b[0m \u001b[0;34m\u001b[0m\u001b[0m\n\u001b[1;32m    171\u001b[0m \u001b[0;34m\u001b[0m\u001b[0m\n",
      "\u001b[0;31mValueError\u001b[0m: Unknown label type: 'unknown'"
     ]
    }
   ],
   "source": [
    "clf.fit(X_train, y_train)"
   ]
  },
  {
   "cell_type": "code",
   "execution_count": null,
   "metadata": {},
   "outputs": [],
   "source": []
  },
  {
   "cell_type": "code",
   "execution_count": null,
   "metadata": {},
   "outputs": [],
   "source": []
  },
  {
   "cell_type": "code",
   "execution_count": null,
   "metadata": {},
   "outputs": [],
   "source": []
  },
  {
   "cell_type": "code",
   "execution_count": null,
   "metadata": {},
   "outputs": [],
   "source": [
    "COMBINE Y INTO A SINGLE COLUMN\n",
    "Sec 32 - pipeline for scaling, normalizing, transforming etc\n",
    "Sec 24 - generating data?\n",
    "Sec 25 - class imbalance\n",
    "\n",
    "Sec 27 - knn\n",
    "Sec 29 - decision tree\n",
    "Sec 30 - random forest\n",
    "Sec 30 - XGBoost\n",
    "Sec 30 - gridsearch\n",
    "Sec 31 - support vector machine\n"
   ]
  }
 ],
 "metadata": {
  "kernelspec": {
   "display_name": "learn-env",
   "language": "python",
   "name": "learn-env"
  },
  "language_info": {
   "codemirror_mode": {
    "name": "ipython",
    "version": 3
   },
   "file_extension": ".py",
   "mimetype": "text/x-python",
   "name": "python",
   "nbconvert_exporter": "python",
   "pygments_lexer": "ipython3",
   "version": "3.6.9"
  },
  "toc": {
   "base_numbering": 1,
   "nav_menu": {},
   "number_sections": true,
   "sideBar": true,
   "skip_h1_title": false,
   "title_cell": "Table of Contents",
   "title_sidebar": "Contents",
   "toc_cell": false,
   "toc_position": {
    "height": "calc(100% - 180px)",
    "left": "10px",
    "top": "150px",
    "width": "272px"
   },
   "toc_section_display": true,
   "toc_window_display": true
  },
  "varInspector": {
   "cols": {
    "lenName": 16,
    "lenType": 16,
    "lenVar": 40
   },
   "kernels_config": {
    "python": {
     "delete_cmd_postfix": "",
     "delete_cmd_prefix": "del ",
     "library": "var_list.py",
     "varRefreshCmd": "print(var_dic_list())"
    },
    "r": {
     "delete_cmd_postfix": ") ",
     "delete_cmd_prefix": "rm(",
     "library": "var_list.r",
     "varRefreshCmd": "cat(var_dic_list()) "
    }
   },
   "types_to_exclude": [
    "module",
    "function",
    "builtin_function_or_method",
    "instance",
    "_Feature"
   ],
   "window_display": false
  }
 },
 "nbformat": 4,
 "nbformat_minor": 2
}
